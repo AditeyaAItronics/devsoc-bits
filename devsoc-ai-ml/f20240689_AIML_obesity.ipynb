{
  "cells": [
    {
      "cell_type": "markdown",
      "metadata": {
        "id": "view-in-github",
        "colab_type": "text"
      },
      "source": [
        "<a href=\"https://colab.research.google.com/github/AditeyaAItronics/devsoc-bits/blob/main/devsoc-ai-ml/f20240689_AIML_obesity.ipynb\" target=\"_parent\"><img src=\"https://colab.research.google.com/assets/colab-badge.svg\" alt=\"Open In Colab\"/></a>"
      ]
    },
    {
      "cell_type": "code",
      "source": [
        "\n",
        "!git clone https://github.com/AditeyaAItronics/devsoc-bits\n"
      ],
      "metadata": {
        "id": "rdTSnjh0In3C",
        "outputId": "8683896c-f59e-4ed5-ad8f-eb8cbef16af3",
        "colab": {
          "base_uri": "https://localhost:8080/"
        }
      },
      "id": "rdTSnjh0In3C",
      "execution_count": null,
      "outputs": [
        {
          "output_type": "stream",
          "name": "stdout",
          "text": [
            "Cloning into 'devsoc-bits'...\n",
            "remote: Enumerating objects: 92, done.\u001b[K\n",
            "remote: Counting objects: 100% (92/92), done.\u001b[K\n",
            "remote: Compressing objects: 100% (84/84), done.\u001b[K\n",
            "remote: Total 92 (delta 28), reused 0 (delta 0), pack-reused 0 (from 0)\u001b[K\n",
            "Receiving objects: 100% (92/92), 9.55 MiB | 11.11 MiB/s, done.\n",
            "Resolving deltas: 100% (28/28), done.\n"
          ]
        }
      ]
    },
    {
      "cell_type": "code",
      "execution_count": null,
      "id": "5bc1c174",
      "metadata": {
        "id": "5bc1c174",
        "outputId": "a374d638-0457-4ced-905f-1ffce9d1b7d1"
      },
      "outputs": [
        {
          "name": "stdout",
          "output_type": "stream",
          "text": [
            "Null values per column:\n",
            "id                                0\n",
            "Gender                            0\n",
            "Age                               0\n",
            "Height                            0\n",
            "Weight                            0\n",
            "family_history_with_overweight    0\n",
            "FAVC                              0\n",
            "FCVC                              0\n",
            "NCP                               0\n",
            "CAEC                              0\n",
            "SMOKE                             0\n",
            "CH2O                              0\n",
            "SCC                               0\n",
            "FAF                               0\n",
            "TUE                               0\n",
            "CALC                              0\n",
            "MTRANS                            0\n",
            "NObeyesdad                        0\n",
            "dtype: int64\n"
          ]
        }
      ],
      "source": [
        "import pandas as pd\n",
        "import matplotlib.pyplot as plt\n",
        "import seaborn as sns\n",
        "from sklearn.model_selection import train_test_split\n",
        "from sklearn.preprocessing import StandardScaler\n",
        "from sklearn.tree import DecisionTreeClassifier\n",
        "from sklearn.linear_model import LogisticRegression\n",
        "from sklearn.neighbors import KNeighborsClassifier\n",
        "from sklearn.metrics import accuracy_score, classification_report\n",
        "import numpy as np\n",
        "\n",
        "# Load dataset\n",
        "df = pd.read_csv('/content/devsoc-bits/devsoc-ai-ml/dataset.csv')\n",
        "\n",
        "# Null value analysis\n",
        "print(\"Null values per column:\")\n",
        "print(df.isnull().sum())"
      ]
    },
    {
      "cell_type": "code",
      "execution_count": null,
      "id": "0800fbb9",
      "metadata": {
        "id": "0800fbb9"
      },
      "outputs": [],
      "source": [
        "# Prepare features and target\n",
        "X = df.drop(['id', 'NObeyesdad'], axis=1)\n",
        "y = df['NObeyesdad']\n",
        "\n",
        "# One-hot encode categorical variables\n",
        "X_encoded = pd.get_dummies(X, drop_first=True)\n",
        "\n",
        "# Train-test split\n",
        "X_train, X_test, y_train, y_test = train_test_split(X_encoded, y, test_size=0.2, random_state=42, stratify=y)\n",
        "\n",
        "# Feature scaling\n",
        "scaler = StandardScaler()\n",
        "X_train_scaled = scaler.fit_transform(X_train)\n",
        "X_test_scaled = scaler.transform(X_test)"
      ]
    },
    {
      "cell_type": "code",
      "execution_count": null,
      "id": "7d015ef3",
      "metadata": {
        "id": "7d015ef3"
      },
      "outputs": [],
      "source": [
        "def analyze_and_impute_missing_values(df):\n",
        "    print(\"Null values per column:\")\n",
        "    print(df.isnull().sum())\n",
        "    # Impute missing values (numerical: mean, categorical: mode)\n",
        "    for col in df.columns:\n",
        "        if df[col].dtype in [np.float64, np.int64]:\n",
        "            df[col].fillna(df[col].mean(), inplace=True)\n",
        "        else:\n",
        "            df[col].fillna(df[col].mode()[0], inplace=True)\n",
        "    print(\"Null values after imputation:\")\n",
        "    print(df.isnull().sum())"
      ]
    },
    {
      "cell_type": "code",
      "execution_count": null,
      "id": "f0ca618d",
      "metadata": {
        "id": "f0ca618d"
      },
      "outputs": [],
      "source": [
        "def analyze_data_biasness(df):\n",
        "    \"\"\"\n",
        "    Analyze data skewness for each numerical feature and plot distributions.\n",
        "    \"\"\"\n",
        "    print(\"Data Skewness Analysis:\")\n",
        "    numeric_cols = df.select_dtypes(include=[np.number]).columns\n",
        "    skewness = df[numeric_cols].skew()\n",
        "    print(skewness)\n",
        "    plt.figure(figsize=(12, 6))\n",
        "    sns.barplot(x=skewness.index, y=skewness.values)\n",
        "    plt.title('Skewness of Numerical Features')\n",
        "    plt.ylabel('Skewness')\n",
        "    plt.xticks(rotation=45)\n",
        "    plt.show()"
      ]
    },
    {
      "cell_type": "code",
      "execution_count": null,
      "id": "b38ee0e3",
      "metadata": {
        "id": "b38ee0e3"
      },
      "outputs": [],
      "source": [
        "def analyze_decision_tree(X_train, X_test, y_train, y_test):\n",
        "    best_acc = 0\n",
        "    best_params = {}\n",
        "    best_metrics = {}\n",
        "    print(\"Decision Tree parameter tuning:\")\n",
        "    for max_depth in [3, 5, 10, None]:\n",
        "        for min_samples_split in [2, 5, 10]:\n",
        "            dt = DecisionTreeClassifier(random_state=42, max_depth=max_depth, min_samples_split=min_samples_split)\n",
        "            dt.fit(X_train, y_train)\n",
        "            dt_pred = dt.predict(X_test)\n",
        "            acc = accuracy_score(y_test, dt_pred)\n",
        "            report = classification_report(y_test, dt_pred, output_dict=True)\n",
        "            precision = report['weighted avg']['precision']\n",
        "            recall = report['weighted avg']['recall']\n",
        "            f1 = report['weighted avg']['f1-score']\n",
        "            print(f\"max_depth={max_depth}, min_samples_split={min_samples_split} -> \"\n",
        "                  f\"Accuracy: {acc:.4f}, Precision: {precision:.4f}, Recall: {recall:.4f}, F1: {f1:.4f}\")\n",
        "            if acc > best_acc:\n",
        "                best_acc = acc\n",
        "                best_params = {'max_depth': max_depth, 'min_samples_split': min_samples_split}\n",
        "                best_metrics = {\n",
        "                    'accuracy': acc,\n",
        "                    'precision': precision,\n",
        "                    'recall': recall,\n",
        "                    'f1': f1\n",
        "                }\n",
        "    print(f\"\\nBest Decision Tree params: {best_params} with metrics:\")\n",
        "    print(f\"Accuracy: {best_metrics['accuracy']:.4f}\")\n",
        "    print(f\"Precision: {best_metrics['precision']:.4f}\")\n",
        "    print(f\"Recall: {best_metrics['recall']:.4f}\")\n",
        "    print(f\"F1: {best_metrics['f1']:.4f}\")\n",
        "    # Fit and show classification report for best params\n",
        "    dt_best = DecisionTreeClassifier(random_state=42, **best_params)\n",
        "    dt_best.fit(X_train, y_train)\n",
        "    dt_pred = dt_best.predict(X_test)\n",
        "    print(classification_report(y_test, dt_pred))\n",
        "    return best_metrics"
      ]
    },
    {
      "cell_type": "code",
      "execution_count": null,
      "id": "501a0347",
      "metadata": {
        "id": "501a0347"
      },
      "outputs": [],
      "source": [
        "def analyze_logistic_regression(X_train_scaled, X_test_scaled, y_train, y_test):\n",
        "    best_acc = 0\n",
        "    best_params = {}\n",
        "    best_metrics = {}\n",
        "    print(\"Logistic Regression parameter tuning:\")\n",
        "    for C in [0.01, 0.1, 1, 10]:\n",
        "        for penalty in ['l2']:\n",
        "            lr = LogisticRegression(max_iter=1000, random_state=42, C=C, penalty=penalty, solver='lbfgs', multi_class='auto')\n",
        "            lr.fit(X_train_scaled, y_train)\n",
        "            lr_pred = lr.predict(X_test_scaled)\n",
        "            acc = accuracy_score(y_test, lr_pred)\n",
        "            report = classification_report(y_test, lr_pred, output_dict=True)\n",
        "            precision = report['weighted avg']['precision']\n",
        "            recall = report['weighted avg']['recall']\n",
        "            f1 = report['weighted avg']['f1-score']\n",
        "            print(f\"C={C}, penalty={penalty} -> Accuracy: {acc:.4f}, Precision: {precision:.4f}, Recall: {recall:.4f}, F1: {f1:.4f}\")\n",
        "            if acc > best_acc:\n",
        "                best_acc = acc\n",
        "                best_params = {'C': C, 'penalty': penalty}\n",
        "                best_metrics = {\n",
        "                    'accuracy': acc,\n",
        "                    'precision': precision,\n",
        "                    'recall': recall,\n",
        "                    'f1': f1\n",
        "                }\n",
        "    print(f\"\\nBest Logistic Regression params: {best_params} with metrics:\")\n",
        "    print(f\"Accuracy: {best_metrics['accuracy']:.4f}\")\n",
        "    print(f\"Precision: {best_metrics['precision']:.4f}\")\n",
        "    print(f\"Recall: {best_metrics['recall']:.4f}\")\n",
        "    print(f\"F1: {best_metrics['f1']:.4f}\")\n",
        "    # Fit and show classification report for best params\n",
        "    lr_best = LogisticRegression(max_iter=1000, random_state=42, **best_params, solver='lbfgs', multi_class='auto')\n",
        "    lr_best.fit(X_train_scaled, y_train)\n",
        "    lr_pred = lr_best.predict(X_test_scaled)\n",
        "    print(classification_report(y_test, lr_pred))\n",
        "    return best_metrics"
      ]
    },
    {
      "cell_type": "code",
      "execution_count": null,
      "id": "94326818",
      "metadata": {
        "id": "94326818"
      },
      "outputs": [],
      "source": [
        "def analyze_knn(X_train_scaled, X_test_scaled, y_train, y_test):\n",
        "    best_acc = 0\n",
        "    best_params = {}\n",
        "    best_metrics = {}\n",
        "    print(\"KNN parameter tuning:\")\n",
        "    for n_neighbors in [3, 5, 7, 9, 11]:\n",
        "        for weights in ['uniform', 'distance']:\n",
        "            for p in [1, 2]:  # 1: Manhattan, 2: Euclidean\n",
        "                knn = KNeighborsClassifier(n_neighbors=n_neighbors, weights=weights, p=p)\n",
        "                knn.fit(X_train_scaled, y_train)\n",
        "                knn_pred = knn.predict(X_test_scaled)\n",
        "                acc = accuracy_score(y_test, knn_pred)\n",
        "                report = classification_report(y_test, knn_pred, output_dict=True)\n",
        "                precision = report['weighted avg']['precision']\n",
        "                recall = report['weighted avg']['recall']\n",
        "                f1 = report['weighted avg']['f1-score']\n",
        "                print(f\"n_neighbors={n_neighbors}, weights={weights}, p={p} -> \"\n",
        "                      f\"Accuracy: {acc:.4f}, Precision: {precision:.4f}, Recall: {recall:.4f}, F1: {f1:.4f}\")\n",
        "                if acc > best_acc:\n",
        "                    best_acc = acc\n",
        "                    best_params = {'n_neighbors': n_neighbors, 'weights': weights, 'p': p}\n",
        "                    best_metrics = {\n",
        "                        'accuracy': acc,\n",
        "                        'precision': precision,\n",
        "                        'recall': recall,\n",
        "                        'f1': f1\n",
        "                    }\n",
        "    print(f\"\\nBest KNN params: {best_params} with metrics:\")\n",
        "    print(f\"Accuracy: {best_metrics['accuracy']:.4f}\")\n",
        "    print(f\"Precision: {best_metrics['precision']:.4f}\")\n",
        "    print(f\"Recall: {best_metrics['recall']:.4f}\")\n",
        "    print(f\"F1: {best_metrics['f1']:.4f}\")\n",
        "    return best_metrics"
      ]
    },
    {
      "cell_type": "code",
      "execution_count": null,
      "id": "882f5e4a",
      "metadata": {
        "id": "882f5e4a"
      },
      "outputs": [],
      "source": [
        "def compare_model_metrics(X_train, X_test, X_train_scaled, X_test_scaled, y_train, y_test):\n",
        "    # Run individual analyses and collect metrics\n",
        "    print(\"Analyzing Decision Tree...\")\n",
        "    dt_metrics = analyze_decision_tree(X_train, X_test, y_train, y_test)\n",
        "\n",
        "    print(\"\\nAnalyzing Logistic Regression...\")\n",
        "    lr_metrics = analyze_logistic_regression(X_train_scaled, X_test_scaled, y_train, y_test)\n",
        "\n",
        "    print(\"\\nAnalyzing KNN...\")\n",
        "    knn_metrics = analyze_knn(X_train_scaled, X_test_scaled, y_train, y_test)\n",
        "\n",
        "    # Collect results\n",
        "    results = [\n",
        "        {\"Model\": \"Decision Tree\", **dt_metrics},\n",
        "        {\"Model\": \"Logistic Regression\", **lr_metrics},\n",
        "        {\"Model\": \"KNN\", **knn_metrics}\n",
        "    ]\n",
        "\n",
        "    results_df = pd.DataFrame(results)\n",
        "    print(\"\\nModel Comparison:\")\n",
        "    print(results_df)\n",
        "    results_df.plot(x='Model', y=['accuracy', 'precision', 'recall', 'f1'], kind='bar', figsize=(10,6))\n",
        "    plt.title('Model Performance Comparison')\n",
        "    plt.ylabel('Score')\n",
        "    plt.ylim(0, 1)\n",
        "    plt.show()\n",
        "\n",
        "    # Recommend the best model based on accuracy\n",
        "    best_idx = results_df['accuracy'].idxmax()\n",
        "    best_model = results_df.loc[best_idx, 'Model']\n",
        "    best_metrics = results_df.loc[best_idx].to_dict()\n",
        "    print(f\"\\nRecommended Model: {best_model}\")\n",
        "    print(\"Recommended Model Metrics:\")\n",
        "    for metric, value in best_metrics.items():\n",
        "        if metric != 'Model':\n",
        "            print(f\"{metric.capitalize()}: {value:.4f}\")\n"
      ]
    },
    {
      "cell_type": "code",
      "execution_count": null,
      "id": "f7f953b0",
      "metadata": {
        "id": "f7f953b0",
        "outputId": "e485b9fc-a027-424c-d20f-611f220e9078"
      },
      "outputs": [
        {
          "name": "stdout",
          "output_type": "stream",
          "text": [
            "Null values per column:\n",
            "id                                0\n",
            "Gender                            0\n",
            "Age                               0\n",
            "Height                            0\n",
            "Weight                            0\n",
            "family_history_with_overweight    0\n",
            "FAVC                              0\n",
            "FCVC                              0\n",
            "NCP                               0\n",
            "CAEC                              0\n",
            "SMOKE                             0\n",
            "CH2O                              0\n",
            "SCC                               0\n",
            "FAF                               0\n",
            "TUE                               0\n",
            "CALC                              0\n",
            "MTRANS                            0\n",
            "NObeyesdad                        0\n",
            "dtype: int64\n",
            "Null values after imputation:\n",
            "id                                0\n",
            "Gender                            0\n",
            "Age                               0\n",
            "Height                            0\n",
            "Weight                            0\n",
            "family_history_with_overweight    0\n",
            "FAVC                              0\n",
            "FCVC                              0\n",
            "NCP                               0\n",
            "CAEC                              0\n",
            "SMOKE                             0\n",
            "CH2O                              0\n",
            "SCC                               0\n",
            "FAF                               0\n",
            "TUE                               0\n",
            "CALC                              0\n",
            "MTRANS                            0\n",
            "NObeyesdad                        0\n",
            "dtype: int64\n",
            "Data Skewness Analysis:\n",
            "id        0.000000\n",
            "Age       1.586252\n",
            "Height    0.015803\n",
            "Weight    0.093187\n",
            "FCVC     -0.356611\n",
            "NCP      -1.562253\n",
            "CH2O     -0.212506\n",
            "FAF       0.505726\n",
            "TUE       0.670411\n",
            "dtype: float64\n"
          ]
        },
        {
          "name": "stderr",
          "output_type": "stream",
          "text": [
            "C:\\Users\\amitk\\AppData\\Local\\Temp\\ipykernel_20208\\1677019472.py:7: FutureWarning: A value is trying to be set on a copy of a DataFrame or Series through chained assignment using an inplace method.\n",
            "The behavior will change in pandas 3.0. This inplace method will never work because the intermediate object on which we are setting values always behaves as a copy.\n",
            "\n",
            "For example, when doing 'df[col].method(value, inplace=True)', try using 'df.method({col: value}, inplace=True)' or df[col] = df[col].method(value) instead, to perform the operation inplace on the original object.\n",
            "\n",
            "\n",
            "  df[col].fillna(df[col].mean(), inplace=True)\n",
            "C:\\Users\\amitk\\AppData\\Local\\Temp\\ipykernel_20208\\1677019472.py:9: FutureWarning: A value is trying to be set on a copy of a DataFrame or Series through chained assignment using an inplace method.\n",
            "The behavior will change in pandas 3.0. This inplace method will never work because the intermediate object on which we are setting values always behaves as a copy.\n",
            "\n",
            "For example, when doing 'df[col].method(value, inplace=True)', try using 'df.method({col: value}, inplace=True)' or df[col] = df[col].method(value) instead, to perform the operation inplace on the original object.\n",
            "\n",
            "\n",
            "  df[col].fillna(df[col].mode()[0], inplace=True)\n"
          ]
        },
        {
          "data": {
            "image/png": "[encoded data removed]",
            "text/plain": [
              "<Figure size 1200x600 with 1 Axes>"
            ]
          },
          "metadata": {},
          "output_type": "display_data"
        }
      ],
      "source": [
        "# Load dataset and do the nal\n",
        "analyze_and_impute_missing_values(df)\n",
        "analyze_data_biasness(df)"
      ]
    },
    {
      "cell_type": "code",
      "execution_count": null,
      "id": "fc5ceb00",
      "metadata": {
        "id": "fc5ceb00",
        "outputId": "d3cdf545-bd2b-4a92-d9d5-f9f2f1cd9dc6"
      },
      "outputs": [
        {
          "name": "stdout",
          "output_type": "stream",
          "text": [
            "Decision Tree parameter tuning:\n",
            "max_depth=3, min_samples_split=2 -> Accuracy: 0.7312, Precision: 0.6865, Recall: 0.7312, F1: 0.6929\n"
          ]
        },
        {
          "name": "stderr",
          "output_type": "stream",
          "text": [
            "c:\\Users\\amitk\\anaconda3\\envs\\adibits1\\Lib\\site-packages\\sklearn\\metrics\\_classification.py:1565: UndefinedMetricWarning: Precision is ill-defined and being set to 0.0 in labels with no predicted samples. Use `zero_division` parameter to control this behavior.\n",
            "  _warn_prf(average, modifier, f\"{metric.capitalize()} is\", len(result))\n",
            "c:\\Users\\amitk\\anaconda3\\envs\\adibits1\\Lib\\site-packages\\sklearn\\metrics\\_classification.py:1565: UndefinedMetricWarning: Precision is ill-defined and being set to 0.0 in labels with no predicted samples. Use `zero_division` parameter to control this behavior.\n",
            "  _warn_prf(average, modifier, f\"{metric.capitalize()} is\", len(result))\n",
            "c:\\Users\\amitk\\anaconda3\\envs\\adibits1\\Lib\\site-packages\\sklearn\\metrics\\_classification.py:1565: UndefinedMetricWarning: Precision is ill-defined and being set to 0.0 in labels with no predicted samples. Use `zero_division` parameter to control this behavior.\n",
            "  _warn_prf(average, modifier, f\"{metric.capitalize()} is\", len(result))\n",
            "c:\\Users\\amitk\\anaconda3\\envs\\adibits1\\Lib\\site-packages\\sklearn\\metrics\\_classification.py:1565: UndefinedMetricWarning: Precision is ill-defined and being set to 0.0 in labels with no predicted samples. Use `zero_division` parameter to control this behavior.\n",
            "  _warn_prf(average, modifier, f\"{metric.capitalize()} is\", len(result))\n",
            "c:\\Users\\amitk\\anaconda3\\envs\\adibits1\\Lib\\site-packages\\sklearn\\metrics\\_classification.py:1565: UndefinedMetricWarning: Precision is ill-defined and being set to 0.0 in labels with no predicted samples. Use `zero_division` parameter to control this behavior.\n",
            "  _warn_prf(average, modifier, f\"{metric.capitalize()} is\", len(result))\n",
            "c:\\Users\\amitk\\anaconda3\\envs\\adibits1\\Lib\\site-packages\\sklearn\\metrics\\_classification.py:1565: UndefinedMetricWarning: Precision is ill-defined and being set to 0.0 in labels with no predicted samples. Use `zero_division` parameter to control this behavior.\n",
            "  _warn_prf(average, modifier, f\"{metric.capitalize()} is\", len(result))\n",
            "c:\\Users\\amitk\\anaconda3\\envs\\adibits1\\Lib\\site-packages\\sklearn\\metrics\\_classification.py:1565: UndefinedMetricWarning: Precision is ill-defined and being set to 0.0 in labels with no predicted samples. Use `zero_division` parameter to control this behavior.\n",
            "  _warn_prf(average, modifier, f\"{metric.capitalize()} is\", len(result))\n",
            "c:\\Users\\amitk\\anaconda3\\envs\\adibits1\\Lib\\site-packages\\sklearn\\metrics\\_classification.py:1565: UndefinedMetricWarning: Precision is ill-defined and being set to 0.0 in labels with no predicted samples. Use `zero_division` parameter to control this behavior.\n",
            "  _warn_prf(average, modifier, f\"{metric.capitalize()} is\", len(result))\n"
          ]
        },
        {
          "name": "stdout",
          "output_type": "stream",
          "text": [
            "max_depth=3, min_samples_split=5 -> Accuracy: 0.7312, Precision: 0.6865, Recall: 0.7312, F1: 0.6929\n",
            "max_depth=3, min_samples_split=10 -> Accuracy: 0.7312, Precision: 0.6865, Recall: 0.7312, F1: 0.6929\n"
          ]
        },
        {
          "name": "stderr",
          "output_type": "stream",
          "text": [
            "c:\\Users\\amitk\\anaconda3\\envs\\adibits1\\Lib\\site-packages\\sklearn\\metrics\\_classification.py:1565: UndefinedMetricWarning: Precision is ill-defined and being set to 0.0 in labels with no predicted samples. Use `zero_division` parameter to control this behavior.\n",
            "  _warn_prf(average, modifier, f\"{metric.capitalize()} is\", len(result))\n"
          ]
        },
        {
          "name": "stdout",
          "output_type": "stream",
          "text": [
            "max_depth=5, min_samples_split=2 -> Accuracy: 0.8343, Precision: 0.8467, Recall: 0.8343, F1: 0.8359\n",
            "max_depth=5, min_samples_split=5 -> Accuracy: 0.8343, Precision: 0.8467, Recall: 0.8343, F1: 0.8359\n",
            "max_depth=5, min_samples_split=10 -> Accuracy: 0.8343, Precision: 0.8467, Recall: 0.8343, F1: 0.8359\n",
            "max_depth=10, min_samples_split=2 -> Accuracy: 0.8731, Precision: 0.8724, Recall: 0.8731, F1: 0.8726\n",
            "max_depth=10, min_samples_split=5 -> Accuracy: 0.8733, Precision: 0.8729, Recall: 0.8733, F1: 0.8729\n",
            "max_depth=10, min_samples_split=10 -> Accuracy: 0.8745, Precision: 0.8742, Recall: 0.8745, F1: 0.8742\n",
            "max_depth=None, min_samples_split=2 -> Accuracy: 0.8425, Precision: 0.8427, Recall: 0.8425, F1: 0.8425\n",
            "max_depth=None, min_samples_split=5 -> Accuracy: 0.8451, Precision: 0.8447, Recall: 0.8451, F1: 0.8447\n",
            "max_depth=None, min_samples_split=10 -> Accuracy: 0.8572, Precision: 0.8563, Recall: 0.8572, F1: 0.8566\n",
            "\n",
            "Best Decision Tree params: {'max_depth': 10, 'min_samples_split': 10} with metrics:\n",
            "Accuracy: 0.8745\n",
            "Precision: 0.8742\n",
            "Recall: 0.8745\n",
            "F1: 0.8742\n",
            "                     precision    recall  f1-score   support\n",
            "\n",
            "Insufficient_Weight       0.91      0.91      0.91       505\n",
            "      Normal_Weight       0.81      0.85      0.83       617\n",
            "     Obesity_Type_I       0.84      0.87      0.85       582\n",
            "    Obesity_Type_II       0.96      0.95      0.96       650\n",
            "   Obesity_Type_III       1.00      0.99      0.99       809\n",
            " Overweight_Level_I       0.74      0.71      0.72       485\n",
            "Overweight_Level_II       0.78      0.74      0.76       504\n",
            "\n",
            "           accuracy                           0.87      4152\n",
            "          macro avg       0.86      0.86      0.86      4152\n",
            "       weighted avg       0.87      0.87      0.87      4152\n",
            "\n",
            "Logistic Regression parameter tuning:\n"
          ]
        },
        {
          "name": "stderr",
          "output_type": "stream",
          "text": [
            "c:\\Users\\amitk\\anaconda3\\envs\\adibits1\\Lib\\site-packages\\sklearn\\linear_model\\_logistic.py:1247: FutureWarning: 'multi_class' was deprecated in version 1.5 and will be removed in 1.7. From then on, it will always use 'multinomial'. Leave it to its default value to avoid this warning.\n",
            "  warnings.warn(\n"
          ]
        },
        {
          "name": "stdout",
          "output_type": "stream",
          "text": [
            "C=0.01, penalty=l2 -> Accuracy: 0.7671, Precision: 0.7555, Recall: 0.7671, F1: 0.7578\n"
          ]
        },
        {
          "name": "stderr",
          "output_type": "stream",
          "text": [
            "c:\\Users\\amitk\\anaconda3\\envs\\adibits1\\Lib\\site-packages\\sklearn\\linear_model\\_logistic.py:1247: FutureWarning: 'multi_class' was deprecated in version 1.5 and will be removed in 1.7. From then on, it will always use 'multinomial'. Leave it to its default value to avoid this warning.\n",
            "  warnings.warn(\n"
          ]
        },
        {
          "name": "stdout",
          "output_type": "stream",
          "text": [
            "C=0.1, penalty=l2 -> Accuracy: 0.8418, Precision: 0.8381, Recall: 0.8418, F1: 0.8391\n"
          ]
        },
        {
          "name": "stderr",
          "output_type": "stream",
          "text": [
            "c:\\Users\\amitk\\anaconda3\\envs\\adibits1\\Lib\\site-packages\\sklearn\\linear_model\\_logistic.py:1247: FutureWarning: 'multi_class' was deprecated in version 1.5 and will be removed in 1.7. From then on, it will always use 'multinomial'. Leave it to its default value to avoid this warning.\n",
            "  warnings.warn(\n"
          ]
        },
        {
          "name": "stdout",
          "output_type": "stream",
          "text": [
            "C=1, penalty=l2 -> Accuracy: 0.8685, Precision: 0.8671, Recall: 0.8685, F1: 0.8673\n"
          ]
        },
        {
          "name": "stderr",
          "output_type": "stream",
          "text": [
            "c:\\Users\\amitk\\anaconda3\\envs\\adibits1\\Lib\\site-packages\\sklearn\\linear_model\\_logistic.py:1247: FutureWarning: 'multi_class' was deprecated in version 1.5 and will be removed in 1.7. From then on, it will always use 'multinomial'. Leave it to its default value to avoid this warning.\n",
            "  warnings.warn(\n"
          ]
        },
        {
          "name": "stdout",
          "output_type": "stream",
          "text": [
            "C=10, penalty=l2 -> Accuracy: 0.8726, Precision: 0.8714, Recall: 0.8726, F1: 0.8716\n",
            "\n",
            "Best Logistic Regression params: {'C': 10, 'penalty': 'l2'} with metrics:\n",
            "Accuracy: 0.8726\n",
            "Precision: 0.8714\n",
            "Recall: 0.8726\n",
            "F1: 0.8716\n"
          ]
        },
        {
          "name": "stderr",
          "output_type": "stream",
          "text": [
            "c:\\Users\\amitk\\anaconda3\\envs\\adibits1\\Lib\\site-packages\\sklearn\\linear_model\\_logistic.py:1247: FutureWarning: 'multi_class' was deprecated in version 1.5 and will be removed in 1.7. From then on, it will always use 'multinomial'. Leave it to its default value to avoid this warning.\n",
            "  warnings.warn(\n"
          ]
        },
        {
          "name": "stdout",
          "output_type": "stream",
          "text": [
            "                     precision    recall  f1-score   support\n",
            "\n",
            "Insufficient_Weight       0.89      0.95      0.92       505\n",
            "      Normal_Weight       0.88      0.82      0.85       617\n",
            "     Obesity_Type_I       0.81      0.85      0.83       582\n",
            "    Obesity_Type_II       0.94      0.96      0.95       650\n",
            "   Obesity_Type_III       1.00      1.00      1.00       809\n",
            " Overweight_Level_I       0.76      0.72      0.74       485\n",
            "Overweight_Level_II       0.74      0.72      0.73       504\n",
            "\n",
            "           accuracy                           0.87      4152\n",
            "          macro avg       0.86      0.86      0.86      4152\n",
            "       weighted avg       0.87      0.87      0.87      4152\n",
            "\n",
            "KNN parameter tuning:\n",
            "n_neighbors=3, weights=uniform, p=1 -> Accuracy: 0.7702, Precision: 0.7690, Recall: 0.7702, F1: 0.7663\n",
            "n_neighbors=3, weights=uniform, p=2 -> Accuracy: 0.7394, Precision: 0.7375, Recall: 0.7394, F1: 0.7354\n",
            "n_neighbors=3, weights=distance, p=1 -> Accuracy: 0.7784, Precision: 0.7758, Recall: 0.7784, F1: 0.7768\n",
            "n_neighbors=3, weights=distance, p=2 -> Accuracy: 0.7531, Precision: 0.7500, Recall: 0.7531, F1: 0.7514\n",
            "n_neighbors=5, weights=uniform, p=1 -> Accuracy: 0.7784, Precision: 0.7760, Recall: 0.7784, F1: 0.7750\n",
            "n_neighbors=5, weights=uniform, p=2 -> Accuracy: 0.7507, Precision: 0.7474, Recall: 0.7507, F1: 0.7472\n",
            "n_neighbors=5, weights=distance, p=1 -> Accuracy: 0.7897, Precision: 0.7873, Recall: 0.7897, F1: 0.7881\n",
            "n_neighbors=5, weights=distance, p=2 -> Accuracy: 0.7623, Precision: 0.7591, Recall: 0.7623, F1: 0.7604\n",
            "n_neighbors=7, weights=uniform, p=1 -> Accuracy: 0.7854, Precision: 0.7831, Recall: 0.7854, F1: 0.7824\n",
            "n_neighbors=7, weights=uniform, p=2 -> Accuracy: 0.7543, Precision: 0.7499, Recall: 0.7543, F1: 0.7504\n",
            "n_neighbors=7, weights=distance, p=1 -> Accuracy: 0.7914, Precision: 0.7891, Recall: 0.7914, F1: 0.7897\n",
            "n_neighbors=7, weights=distance, p=2 -> Accuracy: 0.7611, Precision: 0.7573, Recall: 0.7611, F1: 0.7589\n",
            "n_neighbors=9, weights=uniform, p=1 -> Accuracy: 0.7856, Precision: 0.7834, Recall: 0.7856, F1: 0.7826\n",
            "n_neighbors=9, weights=uniform, p=2 -> Accuracy: 0.7486, Precision: 0.7433, Recall: 0.7486, F1: 0.7439\n",
            "n_neighbors=9, weights=distance, p=1 -> Accuracy: 0.7965, Precision: 0.7946, Recall: 0.7965, F1: 0.7949\n",
            "n_neighbors=9, weights=distance, p=2 -> Accuracy: 0.7592, Precision: 0.7551, Recall: 0.7592, F1: 0.7566\n",
            "n_neighbors=11, weights=uniform, p=1 -> Accuracy: 0.7830, Precision: 0.7805, Recall: 0.7830, F1: 0.7797\n",
            "n_neighbors=11, weights=uniform, p=2 -> Accuracy: 0.7478, Precision: 0.7426, Recall: 0.7478, F1: 0.7432\n",
            "n_neighbors=11, weights=distance, p=1 -> Accuracy: 0.7919, Precision: 0.7895, Recall: 0.7919, F1: 0.7900\n",
            "n_neighbors=11, weights=distance, p=2 -> Accuracy: 0.7594, Precision: 0.7557, Recall: 0.7594, F1: 0.7568\n",
            "\n",
            "Best KNN params: {'n_neighbors': 9, 'weights': 'distance', 'p': 1} with metrics:\n",
            "Accuracy: 0.7965\n",
            "Precision: 0.7946\n",
            "Recall: 0.7965\n",
            "F1: 0.7949\n"
          ]
        },
        {
          "data": {
            "text/plain": [
              "{'accuracy': 0.7964836223506744,\n",
              " 'precision': 0.7946003623508606,\n",
              " 'recall': 0.7964836223506744,\n",
              " 'f1': 0.7948738500623977}"
            ]
          },
          "execution_count": 31,
          "metadata": {},
          "output_type": "execute_result"
        }
      ],
      "source": [
        "# Run analyses\n",
        "analyze_decision_tree(X_train, X_test, y_train, y_test)\n",
        "analyze_logistic_regression(X_train_scaled, X_test_scaled, y_train, y_test)\n",
        "analyze_knn(X_train_scaled, X_test_scaled, y_train, y_test)"
      ]
    },
    {
      "cell_type": "code",
      "execution_count": null,
      "id": "34fb0270",
      "metadata": {
        "id": "34fb0270",
        "outputId": "66c12a6d-f821-4c21-e5ed-abc203d349c4"
      },
      "outputs": [
        {
          "name": "stdout",
          "output_type": "stream",
          "text": [
            "Analyzing Decision Tree...\n",
            "Decision Tree parameter tuning:\n",
            "max_depth=3, min_samples_split=2 -> Accuracy: 0.7312, Precision: 0.6865, Recall: 0.7312, F1: 0.6929\n",
            "max_depth=3, min_samples_split=5 -> Accuracy: 0.7312, Precision: 0.6865, Recall: 0.7312, F1: 0.6929\n"
          ]
        },
        {
          "name": "stderr",
          "output_type": "stream",
          "text": [
            "c:\\Users\\amitk\\anaconda3\\envs\\adibits1\\Lib\\site-packages\\sklearn\\metrics\\_classification.py:1565: UndefinedMetricWarning: Precision is ill-defined and being set to 0.0 in labels with no predicted samples. Use `zero_division` parameter to control this behavior.\n",
            "  _warn_prf(average, modifier, f\"{metric.capitalize()} is\", len(result))\n",
            "c:\\Users\\amitk\\anaconda3\\envs\\adibits1\\Lib\\site-packages\\sklearn\\metrics\\_classification.py:1565: UndefinedMetricWarning: Precision is ill-defined and being set to 0.0 in labels with no predicted samples. Use `zero_division` parameter to control this behavior.\n",
            "  _warn_prf(average, modifier, f\"{metric.capitalize()} is\", len(result))\n",
            "c:\\Users\\amitk\\anaconda3\\envs\\adibits1\\Lib\\site-packages\\sklearn\\metrics\\_classification.py:1565: UndefinedMetricWarning: Precision is ill-defined and being set to 0.0 in labels with no predicted samples. Use `zero_division` parameter to control this behavior.\n",
            "  _warn_prf(average, modifier, f\"{metric.capitalize()} is\", len(result))\n",
            "c:\\Users\\amitk\\anaconda3\\envs\\adibits1\\Lib\\site-packages\\sklearn\\metrics\\_classification.py:1565: UndefinedMetricWarning: Precision is ill-defined and being set to 0.0 in labels with no predicted samples. Use `zero_division` parameter to control this behavior.\n",
            "  _warn_prf(average, modifier, f\"{metric.capitalize()} is\", len(result))\n",
            "c:\\Users\\amitk\\anaconda3\\envs\\adibits1\\Lib\\site-packages\\sklearn\\metrics\\_classification.py:1565: UndefinedMetricWarning: Precision is ill-defined and being set to 0.0 in labels with no predicted samples. Use `zero_division` parameter to control this behavior.\n",
            "  _warn_prf(average, modifier, f\"{metric.capitalize()} is\", len(result))\n",
            "c:\\Users\\amitk\\anaconda3\\envs\\adibits1\\Lib\\site-packages\\sklearn\\metrics\\_classification.py:1565: UndefinedMetricWarning: Precision is ill-defined and being set to 0.0 in labels with no predicted samples. Use `zero_division` parameter to control this behavior.\n",
            "  _warn_prf(average, modifier, f\"{metric.capitalize()} is\", len(result))\n",
            "c:\\Users\\amitk\\anaconda3\\envs\\adibits1\\Lib\\site-packages\\sklearn\\metrics\\_classification.py:1565: UndefinedMetricWarning: Precision is ill-defined and being set to 0.0 in labels with no predicted samples. Use `zero_division` parameter to control this behavior.\n",
            "  _warn_prf(average, modifier, f\"{metric.capitalize()} is\", len(result))\n",
            "c:\\Users\\amitk\\anaconda3\\envs\\adibits1\\Lib\\site-packages\\sklearn\\metrics\\_classification.py:1565: UndefinedMetricWarning: Precision is ill-defined and being set to 0.0 in labels with no predicted samples. Use `zero_division` parameter to control this behavior.\n",
            "  _warn_prf(average, modifier, f\"{metric.capitalize()} is\", len(result))\n",
            "c:\\Users\\amitk\\anaconda3\\envs\\adibits1\\Lib\\site-packages\\sklearn\\metrics\\_classification.py:1565: UndefinedMetricWarning: Precision is ill-defined and being set to 0.0 in labels with no predicted samples. Use `zero_division` parameter to control this behavior.\n",
            "  _warn_prf(average, modifier, f\"{metric.capitalize()} is\", len(result))\n"
          ]
        },
        {
          "name": "stdout",
          "output_type": "stream",
          "text": [
            "max_depth=3, min_samples_split=10 -> Accuracy: 0.7312, Precision: 0.6865, Recall: 0.7312, F1: 0.6929\n",
            "max_depth=5, min_samples_split=2 -> Accuracy: 0.8343, Precision: 0.8467, Recall: 0.8343, F1: 0.8359\n",
            "max_depth=5, min_samples_split=5 -> Accuracy: 0.8343, Precision: 0.8467, Recall: 0.8343, F1: 0.8359\n",
            "max_depth=5, min_samples_split=10 -> Accuracy: 0.8343, Precision: 0.8467, Recall: 0.8343, F1: 0.8359\n",
            "max_depth=10, min_samples_split=2 -> Accuracy: 0.8731, Precision: 0.8724, Recall: 0.8731, F1: 0.8726\n",
            "max_depth=10, min_samples_split=5 -> Accuracy: 0.8733, Precision: 0.8729, Recall: 0.8733, F1: 0.8729\n",
            "max_depth=10, min_samples_split=10 -> Accuracy: 0.8745, Precision: 0.8742, Recall: 0.8745, F1: 0.8742\n",
            "max_depth=None, min_samples_split=2 -> Accuracy: 0.8425, Precision: 0.8427, Recall: 0.8425, F1: 0.8425\n",
            "max_depth=None, min_samples_split=5 -> Accuracy: 0.8451, Precision: 0.8447, Recall: 0.8451, F1: 0.8447\n",
            "max_depth=None, min_samples_split=10 -> Accuracy: 0.8572, Precision: 0.8563, Recall: 0.8572, F1: 0.8566\n",
            "\n",
            "Best Decision Tree params: {'max_depth': 10, 'min_samples_split': 10} with metrics:\n",
            "Accuracy: 0.8745\n",
            "Precision: 0.8742\n",
            "Recall: 0.8745\n",
            "F1: 0.8742\n",
            "                     precision    recall  f1-score   support\n",
            "\n",
            "Insufficient_Weight       0.91      0.91      0.91       505\n",
            "      Normal_Weight       0.81      0.85      0.83       617\n",
            "     Obesity_Type_I       0.84      0.87      0.85       582\n",
            "    Obesity_Type_II       0.96      0.95      0.96       650\n",
            "   Obesity_Type_III       1.00      0.99      0.99       809\n",
            " Overweight_Level_I       0.74      0.71      0.72       485\n",
            "Overweight_Level_II       0.78      0.74      0.76       504\n",
            "\n",
            "           accuracy                           0.87      4152\n",
            "          macro avg       0.86      0.86      0.86      4152\n",
            "       weighted avg       0.87      0.87      0.87      4152\n",
            "\n",
            "\n",
            "Analyzing Logistic Regression...\n",
            "Logistic Regression parameter tuning:\n"
          ]
        },
        {
          "name": "stderr",
          "output_type": "stream",
          "text": [
            "c:\\Users\\amitk\\anaconda3\\envs\\adibits1\\Lib\\site-packages\\sklearn\\linear_model\\_logistic.py:1247: FutureWarning: 'multi_class' was deprecated in version 1.5 and will be removed in 1.7. From then on, it will always use 'multinomial'. Leave it to its default value to avoid this warning.\n",
            "  warnings.warn(\n"
          ]
        },
        {
          "name": "stdout",
          "output_type": "stream",
          "text": [
            "C=0.01, penalty=l2 -> Accuracy: 0.7671, Precision: 0.7555, Recall: 0.7671, F1: 0.7578\n"
          ]
        },
        {
          "name": "stderr",
          "output_type": "stream",
          "text": [
            "c:\\Users\\amitk\\anaconda3\\envs\\adibits1\\Lib\\site-packages\\sklearn\\linear_model\\_logistic.py:1247: FutureWarning: 'multi_class' was deprecated in version 1.5 and will be removed in 1.7. From then on, it will always use 'multinomial'. Leave it to its default value to avoid this warning.\n",
            "  warnings.warn(\n"
          ]
        },
        {
          "name": "stdout",
          "output_type": "stream",
          "text": [
            "C=0.1, penalty=l2 -> Accuracy: 0.8418, Precision: 0.8381, Recall: 0.8418, F1: 0.8391\n"
          ]
        },
        {
          "name": "stderr",
          "output_type": "stream",
          "text": [
            "c:\\Users\\amitk\\anaconda3\\envs\\adibits1\\Lib\\site-packages\\sklearn\\linear_model\\_logistic.py:1247: FutureWarning: 'multi_class' was deprecated in version 1.5 and will be removed in 1.7. From then on, it will always use 'multinomial'. Leave it to its default value to avoid this warning.\n",
            "  warnings.warn(\n"
          ]
        },
        {
          "name": "stdout",
          "output_type": "stream",
          "text": [
            "C=1, penalty=l2 -> Accuracy: 0.8685, Precision: 0.8671, Recall: 0.8685, F1: 0.8673\n"
          ]
        },
        {
          "name": "stderr",
          "output_type": "stream",
          "text": [
            "c:\\Users\\amitk\\anaconda3\\envs\\adibits1\\Lib\\site-packages\\sklearn\\linear_model\\_logistic.py:1247: FutureWarning: 'multi_class' was deprecated in version 1.5 and will be removed in 1.7. From then on, it will always use 'multinomial'. Leave it to its default value to avoid this warning.\n",
            "  warnings.warn(\n"
          ]
        },
        {
          "name": "stdout",
          "output_type": "stream",
          "text": [
            "C=10, penalty=l2 -> Accuracy: 0.8726, Precision: 0.8714, Recall: 0.8726, F1: 0.8716\n",
            "\n",
            "Best Logistic Regression params: {'C': 10, 'penalty': 'l2'} with metrics:\n",
            "Accuracy: 0.8726\n",
            "Precision: 0.8714\n",
            "Recall: 0.8726\n",
            "F1: 0.8716\n"
          ]
        },
        {
          "name": "stderr",
          "output_type": "stream",
          "text": [
            "c:\\Users\\amitk\\anaconda3\\envs\\adibits1\\Lib\\site-packages\\sklearn\\linear_model\\_logistic.py:1247: FutureWarning: 'multi_class' was deprecated in version 1.5 and will be removed in 1.7. From then on, it will always use 'multinomial'. Leave it to its default value to avoid this warning.\n",
            "  warnings.warn(\n"
          ]
        },
        {
          "name": "stdout",
          "output_type": "stream",
          "text": [
            "                     precision    recall  f1-score   support\n",
            "\n",
            "Insufficient_Weight       0.89      0.95      0.92       505\n",
            "      Normal_Weight       0.88      0.82      0.85       617\n",
            "     Obesity_Type_I       0.81      0.85      0.83       582\n",
            "    Obesity_Type_II       0.94      0.96      0.95       650\n",
            "   Obesity_Type_III       1.00      1.00      1.00       809\n",
            " Overweight_Level_I       0.76      0.72      0.74       485\n",
            "Overweight_Level_II       0.74      0.72      0.73       504\n",
            "\n",
            "           accuracy                           0.87      4152\n",
            "          macro avg       0.86      0.86      0.86      4152\n",
            "       weighted avg       0.87      0.87      0.87      4152\n",
            "\n",
            "\n",
            "Analyzing KNN...\n",
            "KNN parameter tuning:\n",
            "n_neighbors=3, weights=uniform, p=1 -> Accuracy: 0.7702, Precision: 0.7690, Recall: 0.7702, F1: 0.7663\n",
            "n_neighbors=3, weights=uniform, p=2 -> Accuracy: 0.7394, Precision: 0.7375, Recall: 0.7394, F1: 0.7354\n",
            "n_neighbors=3, weights=distance, p=1 -> Accuracy: 0.7784, Precision: 0.7758, Recall: 0.7784, F1: 0.7768\n",
            "n_neighbors=3, weights=distance, p=2 -> Accuracy: 0.7531, Precision: 0.7500, Recall: 0.7531, F1: 0.7514\n",
            "n_neighbors=5, weights=uniform, p=1 -> Accuracy: 0.7784, Precision: 0.7760, Recall: 0.7784, F1: 0.7750\n",
            "n_neighbors=5, weights=uniform, p=2 -> Accuracy: 0.7507, Precision: 0.7474, Recall: 0.7507, F1: 0.7472\n",
            "n_neighbors=5, weights=distance, p=1 -> Accuracy: 0.7897, Precision: 0.7873, Recall: 0.7897, F1: 0.7881\n",
            "n_neighbors=5, weights=distance, p=2 -> Accuracy: 0.7623, Precision: 0.7591, Recall: 0.7623, F1: 0.7604\n",
            "n_neighbors=7, weights=uniform, p=1 -> Accuracy: 0.7854, Precision: 0.7831, Recall: 0.7854, F1: 0.7824\n",
            "n_neighbors=7, weights=uniform, p=2 -> Accuracy: 0.7543, Precision: 0.7499, Recall: 0.7543, F1: 0.7504\n",
            "n_neighbors=7, weights=distance, p=1 -> Accuracy: 0.7914, Precision: 0.7891, Recall: 0.7914, F1: 0.7897\n",
            "n_neighbors=7, weights=distance, p=2 -> Accuracy: 0.7611, Precision: 0.7573, Recall: 0.7611, F1: 0.7589\n",
            "n_neighbors=9, weights=uniform, p=1 -> Accuracy: 0.7856, Precision: 0.7834, Recall: 0.7856, F1: 0.7826\n",
            "n_neighbors=9, weights=uniform, p=2 -> Accuracy: 0.7486, Precision: 0.7433, Recall: 0.7486, F1: 0.7439\n",
            "n_neighbors=9, weights=distance, p=1 -> Accuracy: 0.7965, Precision: 0.7946, Recall: 0.7965, F1: 0.7949\n",
            "n_neighbors=9, weights=distance, p=2 -> Accuracy: 0.7592, Precision: 0.7551, Recall: 0.7592, F1: 0.7566\n",
            "n_neighbors=11, weights=uniform, p=1 -> Accuracy: 0.7830, Precision: 0.7805, Recall: 0.7830, F1: 0.7797\n",
            "n_neighbors=11, weights=uniform, p=2 -> Accuracy: 0.7478, Precision: 0.7426, Recall: 0.7478, F1: 0.7432\n",
            "n_neighbors=11, weights=distance, p=1 -> Accuracy: 0.7919, Precision: 0.7895, Recall: 0.7919, F1: 0.7900\n",
            "n_neighbors=11, weights=distance, p=2 -> Accuracy: 0.7594, Precision: 0.7557, Recall: 0.7594, F1: 0.7568\n",
            "\n",
            "Best KNN params: {'n_neighbors': 9, 'weights': 'distance', 'p': 1} with metrics:\n",
            "Accuracy: 0.7965\n",
            "Precision: 0.7946\n",
            "Recall: 0.7965\n",
            "F1: 0.7949\n",
            "\n",
            "Model Comparison:\n",
            "                 Model  accuracy  precision    recall        f1\n",
            "0        Decision Tree  0.874518   0.874233  0.874518  0.874173\n",
            "1  Logistic Regression  0.872592   0.871413  0.872592  0.871586\n",
            "2                  KNN  0.796484   0.794600  0.796484  0.794874\n"
          ]
        },
        {
          "data": {
            "image/png": "[encoded data removed]",
            "text/plain": [
              "<Figure size 1000x600 with 1 Axes>"
            ]
          },
          "metadata": {},
          "output_type": "display_data"
        },
        {
          "name": "stdout",
          "output_type": "stream",
          "text": [
            "\n",
            "Recommended Model: Decision Tree\n",
            "Recommended Model Metrics:\n",
            "Accuracy: 0.8745\n",
            "Precision: 0.8742\n",
            "Recall: 0.8745\n",
            "F1: 0.8742\n"
          ]
        }
      ],
      "source": [
        "compare_model_metrics(X_train, X_test, X_train_scaled, X_test_scaled, y_train, y_test)"
      ]
    },
    {
      "cell_type": "markdown",
      "id": "da7c47d9",
      "metadata": {
        "id": "da7c47d9"
      },
      "source": [
        "## Bagging (Bootstrap Aggregating)"
      ]
    },
    {
      "cell_type": "code",
      "execution_count": null,
      "id": "9fd0d662",
      "metadata": {
        "id": "9fd0d662"
      },
      "outputs": [],
      "source": [
        "from sklearn.ensemble import RandomForestClassifier\n",
        "from sklearn.metrics import classification_report\n",
        "from scipy.stats import mode\n",
        "\n",
        "# Define parameter grid for Random Forest\n",
        "param_grid = [\n",
        "    {'n_estimators': 50, 'max_depth': 5, 'min_samples_split': 2},\n",
        "    {'n_estimators': 100, 'max_depth': 10, 'min_samples_split': 5},\n",
        "    {'n_estimators': 200, 'max_depth': None, 'min_samples_split': 10},\n",
        "    {'n_estimators': 150, 'max_depth': 7, 'min_samples_split': 3},\n",
        "    {'n_estimators': 120, 'max_depth': 15, 'min_samples_split': 2}\n",
        "]\n",
        "\n",
        "def train_random_forest_ensemble(X_train, y_train, X_test, param_grid):\n",
        "    \"\"\"\n",
        "    Trains multiple Random Forest models on different random subsets of the data.\n",
        "    Returns the list of models and their predictions on X_test.\n",
        "    \"\"\"\n",
        "    rf_models = []\n",
        "    rf_preds = []\n",
        "    for i, params in enumerate(param_grid):\n",
        "        idx = np.random.choice(X_train.index, size=int(0.8 * len(X_train)), replace=True)\n",
        "        X_sub = X_train.loc[idx]\n",
        "        y_sub = y_train.loc[idx]\n",
        "        rf = RandomForestClassifier(\n",
        "            n_estimators=params['n_estimators'],\n",
        "            max_depth=params['max_depth'],\n",
        "            min_samples_split=params['min_samples_split'],\n",
        "            random_state=42 + i,\n",
        "            n_jobs=-1\n",
        "        )\n",
        "        rf.fit(X_sub, y_sub)\n",
        "        rf_models.append(rf)\n",
        "        rf_preds.append(rf.predict(X_test))\n",
        "    rf_preds = np.array(rf_preds)\n",
        "    return rf_models, rf_preds\n",
        "\n",
        "# def predict_with_ensemble(rf_preds, y_test):\n",
        "#     \"\"\"\n",
        "#     Performs majority voting on predictions and prints the classification report.\n",
        "#     \"\"\"\n",
        "#     final_rf_pred, _ = mode(rf_preds, axis=0, keepdims=False)\n",
        "#     print(classification_report(y_test, final_rf_pred))\n",
        "#     return final_rf_pred\n",
        "def predict_with_ensemble(rf_preds, y_test):\n",
        "    \"\"\"\n",
        "    Performs majority voting on predictions and prints the classification report.\n",
        "    \"\"\"\n",
        "    # Use pandas for mode to support string labels\n",
        "    preds_df = pd.DataFrame(rf_preds)\n",
        "    final_rf_pred = preds_df.mode(axis=0).iloc[0].values\n",
        "    print(classification_report(y_test, final_rf_pred))\n",
        "    return final_rf_pred\n"
      ]
    },
    {
      "cell_type": "code",
      "execution_count": null,
      "id": "95cf4b75",
      "metadata": {
        "id": "95cf4b75",
        "outputId": "5534b048-60bc-4e8b-b21a-e77172015ab1"
      },
      "outputs": [
        {
          "name": "stdout",
          "output_type": "stream",
          "text": [
            "Bagging (Random Forest Ensemble) Results (Majority Vote):\n",
            "                     precision    recall  f1-score   support\n",
            "\n",
            "Insufficient_Weight       0.92      0.93      0.92       505\n",
            "      Normal_Weight       0.79      0.89      0.84       617\n",
            "     Obesity_Type_I       0.86      0.89      0.87       582\n",
            "    Obesity_Type_II       0.96      0.97      0.97       650\n",
            "   Obesity_Type_III       1.00      1.00      1.00       809\n",
            " Overweight_Level_I       0.84      0.62      0.72       485\n",
            "Overweight_Level_II       0.78      0.80      0.79       504\n",
            "\n",
            "           accuracy                           0.89      4152\n",
            "          macro avg       0.88      0.87      0.87      4152\n",
            "       weighted avg       0.89      0.89      0.88      4152\n",
            "\n"
          ]
        }
      ],
      "source": [
        "# Run bagging and prediction\n",
        "rf_models, rf_preds = train_random_forest_ensemble(X_train, y_train, X_test, param_grid)\n",
        "print(\"Bagging (Random Forest Ensemble) Results (Majority Vote):\")\n",
        "final_rf_pred = predict_with_ensemble(rf_preds, y_test)"
      ]
    },
    {
      "cell_type": "code",
      "execution_count": null,
      "id": "b9d03c21",
      "metadata": {
        "id": "b9d03c21"
      },
      "outputs": [],
      "source": [
        "def sample_rf_prediction(X_test, y_test, rf_models, sample_size=5):\n",
        "    \"\"\"\n",
        "    Take a random sample from X_test, predict using the ensemble, and compare with actual output.\n",
        "    \"\"\"\n",
        "    sample_idx = np.random.choice(X_test.index, size=sample_size, replace=False)\n",
        "    X_sample = X_test.loc[sample_idx]\n",
        "    y_actual = y_test.loc[sample_idx]\n",
        "    preds = np.array([rf.predict(X_sample) for rf in rf_models])\n",
        "    preds_df = pd.DataFrame(preds)\n",
        "    final_pred = preds_df.mode(axis=0).iloc[0].values\n",
        "    result_df = pd.DataFrame({\n",
        "        'Actual': y_actual.values,\n",
        "        'Predicted': final_pred\n",
        "    }, index=sample_idx)\n",
        "    print(\"Sample predictions vs actual:\")\n",
        "    print(result_df)\n",
        "    print(\"\\nClassification report for the sample:\")\n",
        "    print(classification_report(y_actual, final_pred))\n",
        "\n",
        "\n"
      ]
    },
    {
      "cell_type": "code",
      "execution_count": null,
      "id": "8a8c298e",
      "metadata": {
        "id": "8a8c298e",
        "outputId": "2ad4144e-3fd4-4b54-e815-cc2246373b91"
      },
      "outputs": [
        {
          "name": "stdout",
          "output_type": "stream",
          "text": [
            "Sample predictions vs actual:\n",
            "                 Actual         Predicted\n",
            "10826   Obesity_Type_II    Obesity_Type_I\n",
            "16051  Obesity_Type_III  Obesity_Type_III\n",
            "15241    Obesity_Type_I    Obesity_Type_I\n",
            "368     Obesity_Type_II   Obesity_Type_II\n",
            "431     Obesity_Type_II   Obesity_Type_II\n",
            "\n",
            "Classification report for the sample:\n",
            "                  precision    recall  f1-score   support\n",
            "\n",
            "  Obesity_Type_I       0.50      1.00      0.67         1\n",
            " Obesity_Type_II       1.00      0.67      0.80         3\n",
            "Obesity_Type_III       1.00      1.00      1.00         1\n",
            "\n",
            "        accuracy                           0.80         5\n",
            "       macro avg       0.83      0.89      0.82         5\n",
            "    weighted avg       0.90      0.80      0.81         5\n",
            "\n"
          ]
        }
      ],
      "source": [
        "# Example usage:\n",
        "sample_rf_prediction(X_test, y_test, rf_models, sample_size=5)"
      ]
    },
    {
      "cell_type": "code",
      "execution_count": null,
      "id": "866b7d93",
      "metadata": {
        "id": "866b7d93"
      },
      "outputs": [],
      "source": []
    },
    {
      "cell_type": "markdown",
      "id": "15648ea1",
      "metadata": {
        "id": "15648ea1"
      },
      "source": [
        "### **2. Boosting**\n",
        "\n",
        "- Models are trained **sequentially**, each focusing on the previous model’s errors.\n",
        "- Final prediction: **weighted combination** of all models.\n",
        "- 📌 *Popular Algorithms:* AdaBoost, Gradient Boosting, XGBoost, LightGBM"
      ]
    },
    {
      "cell_type": "code",
      "execution_count": null,
      "id": "d7e810ff",
      "metadata": {
        "id": "d7e810ff",
        "outputId": "987a9b24-5049-41e8-b89d-201ee053b1cb"
      },
      "outputs": [
        {
          "name": "stderr",
          "output_type": "stream",
          "text": [
            "c:\\Users\\amitk\\anaconda3\\envs\\adibits1\\Lib\\site-packages\\xgboost\\training.py:183: UserWarning: [11:45:21] WARNING: C:\\actions-runner\\_work\\xgboost\\xgboost\\src\\learner.cc:738: \n",
            "Parameters: { \"use_label_encoder\" } are not used.\n",
            "\n",
            "  bst.update(dtrain, iteration=i, fobj=obj)\n"
          ]
        },
        {
          "name": "stdout",
          "output_type": "stream",
          "text": [
            "Params: {'n_estimators': 100, 'max_depth': 3, 'learning_rate': 0.1} -> Accuracy: 0.8960\n"
          ]
        },
        {
          "name": "stderr",
          "output_type": "stream",
          "text": [
            "c:\\Users\\amitk\\anaconda3\\envs\\adibits1\\Lib\\site-packages\\xgboost\\training.py:183: UserWarning: [11:45:22] WARNING: C:\\actions-runner\\_work\\xgboost\\xgboost\\src\\learner.cc:738: \n",
            "Parameters: { \"use_label_encoder\" } are not used.\n",
            "\n",
            "  bst.update(dtrain, iteration=i, fobj=obj)\n"
          ]
        },
        {
          "name": "stdout",
          "output_type": "stream",
          "text": [
            "Params: {'n_estimators': 200, 'max_depth': 5, 'learning_rate': 0.05} -> Accuracy: 0.9078\n"
          ]
        },
        {
          "name": "stderr",
          "output_type": "stream",
          "text": [
            "c:\\Users\\amitk\\anaconda3\\envs\\adibits1\\Lib\\site-packages\\xgboost\\training.py:183: UserWarning: [11:45:24] WARNING: C:\\actions-runner\\_work\\xgboost\\xgboost\\src\\learner.cc:738: \n",
            "Parameters: { \"use_label_encoder\" } are not used.\n",
            "\n",
            "  bst.update(dtrain, iteration=i, fobj=obj)\n"
          ]
        },
        {
          "name": "stdout",
          "output_type": "stream",
          "text": [
            "Params: {'n_estimators': 150, 'max_depth': 4, 'learning_rate': 0.07} -> Accuracy: 0.9063\n",
            "\n",
            "Best XGBoost params: {'n_estimators': 200, 'max_depth': 5, 'learning_rate': 0.05} with Accuracy: 0.9078\n",
            "Classification Report (XGBoost):\n",
            "                     precision    recall  f1-score   support\n",
            "\n",
            "Insufficient_Weight       0.94      0.95      0.94       505\n",
            "      Normal_Weight       0.88      0.90      0.89       617\n",
            "     Obesity_Type_I       0.89      0.90      0.89       582\n",
            "    Obesity_Type_II       0.96      0.97      0.97       650\n",
            "   Obesity_Type_III       1.00      1.00      1.00       809\n",
            " Overweight_Level_I       0.82      0.75      0.78       485\n",
            "Overweight_Level_II       0.80      0.82      0.81       504\n",
            "\n",
            "           accuracy                           0.91      4152\n",
            "          macro avg       0.90      0.90      0.90      4152\n",
            "       weighted avg       0.91      0.91      0.91      4152\n",
            "\n"
          ]
        }
      ],
      "source": [
        "# After training your XGBoost model (e.g., xgb_clf)\n",
        "# xgb_pred is an array of predictions, not a model. You need to pass the trained model.\n",
        "# If you want to use the best XGBoost model for prediction, return the model from train_xgboost_classifier.\n",
        "\n",
        "# Modify train_xgboost_classifier to also return the best model:\n",
        "def train_xgboost_classifier(X_train, y_train, X_test, y_test):\n",
        "    \"\"\"\n",
        "    Trains an XGBoost classifier and prints the classification report.\n",
        "    Returns the best model and its predictions.\n",
        "    \"\"\"\n",
        "    from sklearn.preprocessing import LabelEncoder\n",
        "    le = LabelEncoder()\n",
        "    y_train_enc = le.fit_transform(y_train)\n",
        "    y_test_enc = le.transform(y_test)\n",
        "\n",
        "    param_grid = [\n",
        "        {'n_estimators': 100, 'max_depth': 3, 'learning_rate': 0.1},\n",
        "        {'n_estimators': 200, 'max_depth': 5, 'learning_rate': 0.05},\n",
        "        {'n_estimators': 150, 'max_depth': 4, 'learning_rate': 0.07}\n",
        "    ]\n",
        "\n",
        "    best_acc = 0\n",
        "    best_params = None\n",
        "    best_pred = None\n",
        "    best_model = None\n",
        "\n",
        "    for params in param_grid:\n",
        "        xgb_clf = xgb.XGBClassifier(\n",
        "            n_estimators=params['n_estimators'],\n",
        "            max_depth=params['max_depth'],\n",
        "            learning_rate=params['learning_rate'],\n",
        "            use_label_encoder=False,\n",
        "            eval_metric='mlogloss',\n",
        "            random_state=42\n",
        "        )\n",
        "        xgb_clf.fit(X_train, y_train_enc)\n",
        "        preds = xgb_clf.predict(X_test)\n",
        "        acc = accuracy_score(y_test_enc, preds)\n",
        "        print(f\"Params: {params} -> Accuracy: {acc:.4f}\")\n",
        "        if acc > best_acc:\n",
        "            best_acc = acc\n",
        "            best_params = params\n",
        "            best_pred = preds\n",
        "            best_model = xgb_clf\n",
        "\n",
        "    print(f\"\\nBest XGBoost params: {best_params} with Accuracy: {best_acc:.4f}\")\n",
        "    print(\"Classification Report (XGBoost):\")\n",
        "    print(classification_report(y_test_enc, best_pred, target_names=le.classes_))\n",
        "\n",
        "    return best_model, le\n",
        "\n",
        "# Train and get the best model and label encoder\n",
        "xgb_model, le = train_xgboost_classifier(X_train, y_train, X_test, y_test)\n",
        "\n"
      ]
    },
    {
      "cell_type": "code",
      "execution_count": null,
      "id": "cfca31f4",
      "metadata": {
        "id": "cfca31f4",
        "outputId": "c6bc0a1c-ad4d-4985-c023-ca83d5726218"
      },
      "outputs": [
        {
          "name": "stdout",
          "output_type": "stream",
          "text": [
            "Sample predictions vs actual:\n",
            "                    Actual            Predicted\n",
            "7719   Insufficient_Weight  Insufficient_Weight\n",
            "15972       Obesity_Type_I  Overweight_Level_II\n",
            "4153      Obesity_Type_III     Obesity_Type_III\n",
            "287       Obesity_Type_III     Obesity_Type_III\n",
            "16157       Obesity_Type_I       Obesity_Type_I\n",
            "\n",
            "Classification report for the sample:\n",
            "                     precision    recall  f1-score   support\n",
            "\n",
            "Insufficient_Weight       1.00      1.00      1.00         1\n",
            "     Obesity_Type_I       1.00      0.50      0.67         2\n",
            "   Obesity_Type_III       1.00      1.00      1.00         2\n",
            "Overweight_Level_II       0.00      0.00      0.00         0\n",
            "\n",
            "           accuracy                           0.80         5\n",
            "          macro avg       0.75      0.62      0.67         5\n",
            "       weighted avg       1.00      0.80      0.87         5\n",
            "\n"
          ]
        },
        {
          "name": "stderr",
          "output_type": "stream",
          "text": [
            "c:\\Users\\amitk\\anaconda3\\envs\\adibits1\\Lib\\site-packages\\sklearn\\metrics\\_classification.py:1565: UndefinedMetricWarning: Recall is ill-defined and being set to 0.0 in labels with no true samples. Use `zero_division` parameter to control this behavior.\n",
            "  _warn_prf(average, modifier, f\"{metric.capitalize()} is\", len(result))\n",
            "c:\\Users\\amitk\\anaconda3\\envs\\adibits1\\Lib\\site-packages\\sklearn\\metrics\\_classification.py:1565: UndefinedMetricWarning: Recall is ill-defined and being set to 0.0 in labels with no true samples. Use `zero_division` parameter to control this behavior.\n",
            "  _warn_prf(average, modifier, f\"{metric.capitalize()} is\", len(result))\n",
            "c:\\Users\\amitk\\anaconda3\\envs\\adibits1\\Lib\\site-packages\\sklearn\\metrics\\_classification.py:1565: UndefinedMetricWarning: Recall is ill-defined and being set to 0.0 in labels with no true samples. Use `zero_division` parameter to control this behavior.\n",
            "  _warn_prf(average, modifier, f\"{metric.capitalize()} is\", len(result))\n"
          ]
        }
      ],
      "source": [
        "def test_xgboost_on_sample(X_test, y_test, xgb_model, le, sample_size=5):\n",
        "    \"\"\"\n",
        "    Take a random sample from X_test, predict using the trained XGBoost model,\n",
        "    and compare with actual output.\n",
        "    \"\"\"\n",
        "    import numpy as np\n",
        "    import pandas as pd\n",
        "    from sklearn.metrics import classification_report\n",
        "\n",
        "    sample_idx = np.random.choice(X_test.index, size=sample_size, replace=False)\n",
        "    X_sample = X_test.loc[sample_idx]\n",
        "    y_actual = y_test.loc[sample_idx]\n",
        "\n",
        "    # Encode actual labels for comparison\n",
        "    y_actual_enc = le.transform(y_actual)\n",
        "    y_pred_enc = xgb_model.predict(X_sample)\n",
        "    y_pred = le.inverse_transform(y_pred_enc)\n",
        "\n",
        "    result_df = pd.DataFrame({\n",
        "        'Actual': y_actual.values,\n",
        "        'Predicted': y_pred\n",
        "    }, index=sample_idx)\n",
        "    print(\"Sample predictions vs actual:\")\n",
        "    print(result_df)\n",
        "    print(\"\\nClassification report for the sample:\")\n",
        "    print(classification_report(y_actual, y_pred))\n",
        "\n",
        "# Example usage:\n",
        "test_xgboost_on_sample(X_test, y_test, xgb_model, le, sample_size=5)"
      ]
    },
    {
      "cell_type": "markdown",
      "id": "8c76971e",
      "metadata": {
        "id": "8c76971e"
      },
      "source": [
        "### **3. Stacking (Stacked Generalization)**\n",
        "\n",
        "- Combines multiple base models using a **meta-learner** trained on their outputs.\n",
        "- Base models learn from the original data; the meta-learner learns from their predictions."
      ]
    },
    {
      "cell_type": "code",
      "execution_count": null,
      "id": "b61c6683",
      "metadata": {
        "id": "b61c6683",
        "outputId": "73da493c-3e35-45f1-ca26-86c223ef91f4"
      },
      "outputs": [
        {
          "name": "stdout",
          "output_type": "stream",
          "text": [
            "Best Decision Tree params: {'max_depth': 10, 'min_samples_split': 10}\n"
          ]
        },
        {
          "name": "stderr",
          "output_type": "stream",
          "text": [
            "c:\\Users\\amitk\\anaconda3\\envs\\adibits1\\Lib\\site-packages\\sklearn\\linear_model\\_logistic.py:1247: FutureWarning: 'multi_class' was deprecated in version 1.5 and will be removed in 1.7. From then on, it will always use 'multinomial'. Leave it to its default value to avoid this warning.\n",
            "  warnings.warn(\n"
          ]
        },
        {
          "name": "stdout",
          "output_type": "stream",
          "text": [
            "Best Logistic Regression params: {'C': 100, 'max_iter': 1000, 'penalty': 'l2', 'solver': 'lbfgs'}\n"
          ]
        },
        {
          "name": "stderr",
          "output_type": "stream",
          "text": [
            "c:\\Users\\amitk\\anaconda3\\envs\\adibits1\\Lib\\site-packages\\sklearn\\model_selection\\_search.py:1108: UserWarning: One or more of the test scores are non-finite: [       nan 0.7596054  0.72738824 0.73365129        nan 0.76863825\n",
            " 0.73178375 0.73876976        nan 0.77538277 0.73039873 0.7408771\n",
            "        nan 0.77646676 0.73039889 0.74033513        nan 0.77652689\n",
            " 0.73100109 0.74075702]\n",
            "  warnings.warn(\n"
          ]
        },
        {
          "name": "stdout",
          "output_type": "stream",
          "text": [
            "Best KNN params: {'n_neighbors': 11, 'p': 1, 'weights': 'distance'}\n"
          ]
        },
        {
          "name": "stderr",
          "output_type": "stream",
          "text": [
            "c:\\Users\\amitk\\anaconda3\\envs\\adibits1\\Lib\\site-packages\\sklearn\\linear_model\\_logistic.py:1247: FutureWarning: 'multi_class' was deprecated in version 1.5 and will be removed in 1.7. From then on, it will always use 'multinomial'. Leave it to its default value to avoid this warning.\n",
            "  warnings.warn(\n"
          ]
        },
        {
          "name": "stdout",
          "output_type": "stream",
          "text": [
            "Best Meta-learner (Logistic Regression) params: {'C': 100, 'max_iter': 1000, 'penalty': 'l2', 'solver': 'lbfgs'}\n"
          ]
        },
        {
          "name": "stderr",
          "output_type": "stream",
          "text": [
            "c:\\Users\\amitk\\anaconda3\\envs\\adibits1\\Lib\\site-packages\\sklearn\\linear_model\\_logistic.py:1247: FutureWarning: 'multi_class' was deprecated in version 1.5 and will be removed in 1.7. From then on, it will always use 'multinomial'. Leave it to its default value to avoid this warning.\n",
            "  warnings.warn(\n"
          ]
        },
        {
          "name": "stdout",
          "output_type": "stream",
          "text": [
            "Stacking Classifier Results (with optimal parameters):\n",
            "                     precision    recall  f1-score   support\n",
            "\n",
            "Insufficient_Weight       0.92      0.95      0.93       505\n",
            "      Normal_Weight       0.88      0.86      0.87       617\n",
            "     Obesity_Type_I       0.86      0.88      0.87       582\n",
            "    Obesity_Type_II       0.96      0.96      0.96       650\n",
            "   Obesity_Type_III       1.00      1.00      1.00       809\n",
            " Overweight_Level_I       0.78      0.75      0.77       485\n",
            "Overweight_Level_II       0.79      0.79      0.79       504\n",
            "\n",
            "           accuracy                           0.89      4152\n",
            "          macro avg       0.88      0.88      0.88      4152\n",
            "       weighted avg       0.89      0.89      0.89      4152\n",
            "\n"
          ]
        }
      ],
      "source": [
        "from sklearn.model_selection import GridSearchCV\n",
        "\n",
        "def stacking_with_optimal_params(X_train_scaled, X_test_scaled, y_train, y_test):\n",
        "    \"\"\"\n",
        "    Runs grid search for each base learner and meta-learner, fits a stacking classifier,\n",
        "    prints the classification report, and returns the trained stacking classifier.\n",
        "    \"\"\"\n",
        "    # 1. Decision Tree: Grid Search for best hyperparameters\n",
        "    dt_param_grid = {\n",
        "        'max_depth': [3, 5, 7, 10, None],\n",
        "        'min_samples_split': [2, 5, 10]\n",
        "    }\n",
        "    dt_grid = GridSearchCV(DecisionTreeClassifier(random_state=42), dt_param_grid, cv=5, n_jobs=-1)\n",
        "    dt_grid.fit(X_train_scaled, y_train)\n",
        "    best_dt = dt_grid.best_estimator_\n",
        "    print(\"Best Decision Tree params:\", dt_grid.best_params_)\n",
        "\n",
        "    # 2. Logistic Regression: Grid Search for best hyperparameters\n",
        "    lr_param_grid = {\n",
        "        'C': [0.01, 0.1, 1, 10, 100],\n",
        "        'penalty': ['l2'],\n",
        "        'solver': ['lbfgs'],\n",
        "        'max_iter': [1000]\n",
        "    }\n",
        "    lr_grid = GridSearchCV(LogisticRegression(random_state=42, multi_class='auto'), lr_param_grid, cv=5, n_jobs=-1)\n",
        "    lr_grid.fit(X_train_scaled, y_train)\n",
        "    best_lr = lr_grid.best_estimator_\n",
        "    print(\"Best Logistic Regression params:\", lr_grid.best_params_)\n",
        "\n",
        "    # 3. KNN: Grid Search for best hyperparameters\n",
        "    knn_param_grid = {\n",
        "        'n_neighbors': [3, 5, 7, 9, 11],\n",
        "        'weights': ['uniform', 'distance'],\n",
        "        'p': [1, 2]\n",
        "    }\n",
        "    knn_grid = GridSearchCV(KNeighborsClassifier(), knn_param_grid, cv=5, n_jobs=-1)\n",
        "    knn_grid.fit(X_train_scaled, y_train)\n",
        "    best_knn = knn_grid.best_estimator_\n",
        "    print(\"Best KNN params:\", knn_grid.best_params_)\n",
        "\n",
        "    # 4. Meta-learner (Logistic Regression): Grid Search for best hyperparameters\n",
        "    meta_param_grid = {\n",
        "        'C': [0.01, 0.1, 1, 10, 100],\n",
        "        'penalty': ['l2'],\n",
        "        'solver': ['lbfgs'],\n",
        "        'max_iter': [1000]\n",
        "    }\n",
        "    meta_grid = GridSearchCV(LogisticRegression(random_state=42, multi_class='auto'), meta_param_grid, cv=5, n_jobs=-1)\n",
        "    meta_grid.fit(X_train_scaled, y_train)\n",
        "    best_meta = meta_grid.best_estimator_\n",
        "    print(\"Best Meta-learner (Logistic Regression) params:\", meta_grid.best_params_)\n",
        "\n",
        "    # Stacking Classifier with optimal base learners and meta-learner\n",
        "    stacking_clf = StackingClassifier(\n",
        "        estimators=[\n",
        "            ('dt', best_dt),\n",
        "            ('lr', best_lr),\n",
        "            ('knn', best_knn)\n",
        "        ],\n",
        "        final_estimator=best_meta,\n",
        "        n_jobs=-1\n",
        "    )\n",
        "\n",
        "    # Fit stacking classifier\n",
        "    stacking_clf.fit(X_train_scaled, y_train)\n",
        "\n",
        "    # Predict and evaluate\n",
        "    stack_pred = stacking_clf.predict(X_test_scaled)\n",
        "    print(\"Stacking Classifier Results (with optimal parameters):\")\n",
        "    print(classification_report(y_test, stack_pred))\n",
        "\n",
        "    return stacking_clf\n",
        "\n",
        "# Call the function and get the trained stacking classifier\n",
        "stacking_clf = stacking_with_optimal_params(X_train_scaled, X_test_scaled, y_train, y_test)"
      ]
    },
    {
      "cell_type": "code",
      "execution_count": null,
      "id": "e965c303",
      "metadata": {
        "id": "e965c303",
        "outputId": "9c796e0e-e53b-4275-d3b3-c7449365c15a"
      },
      "outputs": [
        {
          "name": "stdout",
          "output_type": "stream",
          "text": [
            "Sample predictions vs actual:\n",
            "                   Actual            Predicted\n",
            "1069        Normal_Weight        Normal_Weight\n",
            "3326  Overweight_Level_II  Overweight_Level_II\n",
            "580         Normal_Weight  Insufficient_Weight\n",
            "2699       Obesity_Type_I       Obesity_Type_I\n",
            "2528       Obesity_Type_I  Overweight_Level_II\n",
            "\n",
            "Classification report for the sample:\n",
            "                     precision    recall  f1-score   support\n",
            "\n",
            "Insufficient_Weight       0.00      0.00      0.00         0\n",
            "      Normal_Weight       1.00      0.50      0.67         2\n",
            "     Obesity_Type_I       1.00      0.50      0.67         2\n",
            "Overweight_Level_II       0.50      1.00      0.67         1\n",
            "\n",
            "           accuracy                           0.60         5\n",
            "          macro avg       0.62      0.50      0.50         5\n",
            "       weighted avg       0.90      0.60      0.67         5\n",
            "\n"
          ]
        },
        {
          "name": "stderr",
          "output_type": "stream",
          "text": [
            "c:\\Users\\amitk\\anaconda3\\envs\\adibits1\\Lib\\site-packages\\sklearn\\metrics\\_classification.py:1565: UndefinedMetricWarning: Recall is ill-defined and being set to 0.0 in labels with no true samples. Use `zero_division` parameter to control this behavior.\n",
            "  _warn_prf(average, modifier, f\"{metric.capitalize()} is\", len(result))\n",
            "c:\\Users\\amitk\\anaconda3\\envs\\adibits1\\Lib\\site-packages\\sklearn\\metrics\\_classification.py:1565: UndefinedMetricWarning: Recall is ill-defined and being set to 0.0 in labels with no true samples. Use `zero_division` parameter to control this behavior.\n",
            "  _warn_prf(average, modifier, f\"{metric.capitalize()} is\", len(result))\n",
            "c:\\Users\\amitk\\anaconda3\\envs\\adibits1\\Lib\\site-packages\\sklearn\\metrics\\_classification.py:1565: UndefinedMetricWarning: Recall is ill-defined and being set to 0.0 in labels with no true samples. Use `zero_division` parameter to control this behavior.\n",
            "  _warn_prf(average, modifier, f\"{metric.capitalize()} is\", len(result))\n"
          ]
        }
      ],
      "source": [
        "def test_stacking_on_sample(X_test_scaled, y_test, stacking_clf, sample_size=5):\n",
        "    \"\"\"\n",
        "    Take a random sample from X_test_scaled, predict using the trained stacking classifier,\n",
        "    and compare with actual output.\n",
        "    \"\"\"\n",
        "    import numpy as np\n",
        "    import pandas as pd\n",
        "    from sklearn.metrics import classification_report\n",
        "\n",
        "    # Randomly sample indices\n",
        "    sample_idx = np.random.choice(range(X_test_scaled.shape[0]), size=sample_size, replace=False)\n",
        "    X_sample = X_test_scaled[sample_idx]\n",
        "    y_actual = y_test.iloc[sample_idx]\n",
        "\n",
        "    # Predict\n",
        "    y_pred = stacking_clf.predict(X_sample)\n",
        "\n",
        "    # Prepare result DataFrame\n",
        "    result_df = pd.DataFrame({\n",
        "        'Actual': y_actual.values,\n",
        "        'Predicted': y_pred\n",
        "    }, index=sample_idx)\n",
        "    print(\"Sample predictions vs actual:\")\n",
        "    print(result_df)\n",
        "    print(\"\\nClassification report for the sample:\")\n",
        "    print(classification_report(y_actual, y_pred))\n",
        "\n",
        "# Example usage:\n",
        "test_stacking_on_sample(X_test_scaled, y_test, stacking_clf, sample_size=5)"
      ]
    },
    {
      "cell_type": "markdown",
      "id": "d3e92683",
      "metadata": {
        "id": "d3e92683"
      },
      "source": [
        "### Evaluation Criteria\n",
        "\n",
        "- Split the dataset into **training and testing sets** (e.g., 80/20 split or use cross-validation).\n",
        "- Use key metrics to evaluate performance:\n",
        "    - **Accuracy**\n",
        "    - **Precision**\n",
        "    - **Recall**\n",
        "    - **F1-score**\n",
        "    - **Confusion matrix** for multi-class evaluation\n",
        "- Clearly present your results using **tables and/or plots**.\n",
        "- Compare ensemble methods against your **baseline model**."
      ]
    },
    {
      "cell_type": "code",
      "execution_count": null,
      "id": "01eadf1c",
      "metadata": {
        "id": "01eadf1c",
        "outputId": "ee6c14d7-2f21-4992-dc7a-7cb40986130b"
      },
      "outputs": [
        {
          "name": "stdout",
          "output_type": "stream",
          "text": [
            "Confusion Matrix (Best Decision Tree):\n",
            "[[462  42   0   0   0   1   0]\n",
            " [ 43 525   2   0   0  40   7]\n",
            " [  1   0 505  20   3  16  37]\n",
            " [  0   0  31 619   0   0   0]\n",
            " [  0   0   5   2 802   0   0]\n",
            " [  1  69  10   0   0 344  61]\n",
            " [  0  12  49   3   0  66 374]]\n",
            "Confusion Matrix (Random Forest Ensemble):\n",
            "[[469  35   0   0   0   1   0]\n",
            " [ 40 552   1   0   0  16   8]\n",
            " [  1   3 517  19   3   8  31]\n",
            " [  0   0  20 629   0   0   1]\n",
            " [  0   1   1   1 806   0   0]\n",
            " [  1  88  18   0   0 302  76]\n",
            " [  0  23  44   3   0  32 402]]\n",
            "Confusion Matrix (Stacking Meta-Learner):\n",
            "[[478  26   0   0   0   1   0]\n",
            " [ 39 532   2   0   0  40   4]\n",
            " [  1   0 513  19   2  10  37]\n",
            " [  0   0  28 622   0   0   0]\n",
            " [  0   0   2   1 806   0   0]\n",
            " [  1  45  11   0   0 366  62]\n",
            " [  0   4  42   6   0  54 398]]\n",
            "\n",
            "Model Comparison Table:\n",
            "                    Model  accuracy  precision    recall        f1\n",
            "0      Best Decision Tree  0.874518   0.874233  0.874518  0.874173\n",
            "1  Random Forest Ensemble  0.885597   0.886684  0.885597  0.883662\n",
            "2   Stacking Meta-Learner  0.894750   0.894346  0.894750  0.894475\n"
          ]
        },
        {
          "data": {
            "image/png": "[encoded data removed]",
            "text/plain": [
              "<Figure size 1000x600 with 1 Axes>"
            ]
          },
          "metadata": {},
          "output_type": "display_data"
        }
      ],
      "source": [
        "def compare_all_models(X_train, X_test, X_train_scaled, X_test_scaled, y_train, y_test, rf_preds, stacking_clf):\n",
        "    \"\"\"\n",
        "    Compare the best baseline model, ensemble learner, and stacking meta-learner.\n",
        "    Prints metrics and plots a comparison bar chart.\n",
        "    \"\"\"\n",
        "    from sklearn.metrics import accuracy_score, precision_score, recall_score, f1_score, confusion_matrix\n",
        "\n",
        "    # 1. Best Baseline Model (Decision Tree with best params found earlier)\n",
        "    dt_best = DecisionTreeClassifier(random_state=42, max_depth=10, min_samples_split=10)\n",
        "    dt_best.fit(X_train, y_train)\n",
        "    dt_pred = dt_best.predict(X_test)\n",
        "    baseline_metrics = {\n",
        "        \"Model\": \"Best Decision Tree\",\n",
        "        \"accuracy\": accuracy_score(y_test, dt_pred),\n",
        "        \"precision\": precision_score(y_test, dt_pred, average='weighted'),\n",
        "        \"recall\": recall_score(y_test, dt_pred, average='weighted'),\n",
        "        \"f1\": f1_score(y_test, dt_pred, average='weighted')\n",
        "    }\n",
        "    print(\"Confusion Matrix (Best Decision Tree):\")\n",
        "    print(confusion_matrix(y_test, dt_pred))\n",
        "\n",
        "    # 2. Ensemble Learner (Bagging - Random Forest Ensemble)\n",
        "    rf_pred = pd.DataFrame(rf_preds).mode(axis=0).iloc[0].values\n",
        "    ensemble_metrics = {\n",
        "        \"Model\": \"Random Forest Ensemble\",\n",
        "        \"accuracy\": accuracy_score(y_test, rf_pred),\n",
        "        \"precision\": precision_score(y_test, rf_pred, average='weighted'),\n",
        "        \"recall\": recall_score(y_test, rf_pred, average='weighted'),\n",
        "        \"f1\": f1_score(y_test, rf_pred, average='weighted')\n",
        "    }\n",
        "    print(\"Confusion Matrix (Random Forest Ensemble):\")\n",
        "    print(confusion_matrix(y_test, rf_pred))\n",
        "\n",
        "    # 3. Meta-Learner (Stacking)\n",
        "    stack_pred = stacking_clf.predict(X_test_scaled)\n",
        "    meta_metrics = {\n",
        "        \"Model\": \"Stacking Meta-Learner\",\n",
        "        \"accuracy\": accuracy_score(y_test, stack_pred),\n",
        "        \"precision\": precision_score(y_test, stack_pred, average='weighted'),\n",
        "        \"recall\": recall_score(y_test, stack_pred, average='weighted'),\n",
        "        \"f1\": f1_score(y_test, stack_pred, average='weighted')\n",
        "    }\n",
        "    print(\"Confusion Matrix (Stacking Meta-Learner):\")\n",
        "    print(confusion_matrix(y_test, stack_pred))\n",
        "\n",
        "    # Combine and plot\n",
        "    results_df = pd.DataFrame([baseline_metrics, ensemble_metrics, meta_metrics])\n",
        "    print(\"\\nModel Comparison Table:\")\n",
        "    print(results_df)\n",
        "    results_df.plot(x='Model', y=['accuracy', 'precision', 'recall', 'f1'], kind='bar', figsize=(10,6))\n",
        "    plt.title('Meta-Learner, Ensemble, and Baseline Model Comparison')\n",
        "    plt.ylabel('Score')\n",
        "    plt.ylim(0, 1)\n",
        "    plt.show()\n",
        "\n",
        "# Call the function\n",
        "compare_all_models(X_train, X_test, X_train_scaled, X_test_scaled, y_train, y_test, rf_preds, stacking_clf)"
      ]
    }
  ],
  "metadata": {
    "kernelspec": {
      "display_name": "adibits1",
      "language": "python",
      "name": "python3"
    },
    "language_info": {
      "codemirror_mode": {
        "name": "ipython",
        "version": 3
      },
      "file_extension": ".py",
      "mimetype": "text/x-python",
      "name": "python",
      "nbconvert_exporter": "python",
      "pygments_lexer": "ipython3",
      "version": "3.12.7"
    },
    "colab": {
      "provenance": [],
      "include_colab_link": true
    }
  },
  "nbformat": 4,
  "nbformat_minor": 5
}