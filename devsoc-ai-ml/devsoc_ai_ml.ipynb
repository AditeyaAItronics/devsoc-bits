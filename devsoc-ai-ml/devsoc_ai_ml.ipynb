{
 "cells": [
  {
   "cell_type": "code",
   "execution_count": null,
   "id": "5bc1c174",
   "metadata": {},
   "outputs": [
    {
     "name": "stdout",
     "output_type": "stream",
     "text": [
      "Null values per column:\n",
      "id                                0\n",
      "Gender                            0\n",
      "Age                               0\n",
      "Height                            0\n",
      "Weight                            0\n",
      "family_history_with_overweight    0\n",
      "FAVC                              0\n",
      "FCVC                              0\n",
      "NCP                               0\n",
      "CAEC                              0\n",
      "SMOKE                             0\n",
      "CH2O                              0\n",
      "SCC                               0\n",
      "FAF                               0\n",
      "TUE                               0\n",
      "CALC                              0\n",
      "MTRANS                            0\n",
      "NObeyesdad                        0\n",
      "dtype: int64\n"
     ]
    }
   ],
   "source": [
    "import pandas as pd\n",
    "import matplotlib.pyplot as plt\n",
    "import seaborn as sns\n",
    "from sklearn.model_selection import train_test_split\n",
    "from sklearn.preprocessing import StandardScaler\n",
    "from sklearn.tree import DecisionTreeClassifier\n",
    "from sklearn.linear_model import LogisticRegression\n",
    "from sklearn.neighbors import KNeighborsClassifier\n",
    "from sklearn.metrics import accuracy_score, classification_report\n",
    "import numpy as np\n",
    "\n",
    "# Load dataset\n",
    "df = pd.read_csv('dataset.csv')\n",
    "\n",
    "# Null value analysis\n",
    "print(\"Null values per column:\")\n",
    "print(df.isnull().sum())"
   ]
  },
  {
   "cell_type": "code",
   "execution_count": 18,
   "id": "0800fbb9",
   "metadata": {},
   "outputs": [],
   "source": [
    "# Prepare features and target\n",
    "X = df.drop(['id', 'NObeyesdad'], axis=1)\n",
    "y = df['NObeyesdad']\n",
    "\n",
    "# One-hot encode categorical variables\n",
    "X_encoded = pd.get_dummies(X, drop_first=True)\n",
    "\n",
    "# Train-test split\n",
    "X_train, X_test, y_train, y_test = train_test_split(X_encoded, y, test_size=0.2, random_state=42, stratify=y)\n",
    "\n",
    "# Feature scaling\n",
    "scaler = StandardScaler()\n",
    "X_train_scaled = scaler.fit_transform(X_train)\n",
    "X_test_scaled = scaler.transform(X_test)"
   ]
  },
  {
   "cell_type": "code",
   "execution_count": 19,
   "id": "7d015ef3",
   "metadata": {},
   "outputs": [],
   "source": [
    "def analyze_and_impute_missing_values(df):\n",
    "    print(\"Null values per column:\")\n",
    "    print(df.isnull().sum())\n",
    "    # Impute missing values (numerical: mean, categorical: mode)\n",
    "    for col in df.columns:\n",
    "        if df[col].dtype in [np.float64, np.int64]:\n",
    "            df[col].fillna(df[col].mean(), inplace=True)\n",
    "        else:\n",
    "            df[col].fillna(df[col].mode()[0], inplace=True)\n",
    "    print(\"Null values after imputation:\")\n",
    "    print(df.isnull().sum())"
   ]
  },
  {
   "cell_type": "code",
   "execution_count": 20,
   "id": "f0ca618d",
   "metadata": {},
   "outputs": [],
   "source": [
    "def analyze_data_biasness(df):\n",
    "    \"\"\"\n",
    "    Analyze data skewness for each numerical feature and plot distributions.\n",
    "    \"\"\"\n",
    "    print(\"Data Skewness Analysis:\")\n",
    "    numeric_cols = df.select_dtypes(include=[np.number]).columns\n",
    "    skewness = df[numeric_cols].skew()\n",
    "    print(skewness)\n",
    "    plt.figure(figsize=(12, 6))\n",
    "    sns.barplot(x=skewness.index, y=skewness.values)\n",
    "    plt.title('Skewness of Numerical Features')\n",
    "    plt.ylabel('Skewness')\n",
    "    plt.xticks(rotation=45)\n",
    "    plt.show()"
   ]
  },
  {
   "cell_type": "code",
   "execution_count": 21,
   "id": "b38ee0e3",
   "metadata": {},
   "outputs": [],
   "source": [
    "def analyze_decision_tree(X_train, X_test, y_train, y_test):\n",
    "    best_acc = 0\n",
    "    best_params = {}\n",
    "    best_metrics = {}\n",
    "    print(\"Decision Tree parameter tuning:\")\n",
    "    for max_depth in [3, 5, 10, None]:\n",
    "        for min_samples_split in [2, 5, 10]:\n",
    "            dt = DecisionTreeClassifier(random_state=42, max_depth=max_depth, min_samples_split=min_samples_split)\n",
    "            dt.fit(X_train, y_train)\n",
    "            dt_pred = dt.predict(X_test)\n",
    "            acc = accuracy_score(y_test, dt_pred)\n",
    "            report = classification_report(y_test, dt_pred, output_dict=True)\n",
    "            precision = report['weighted avg']['precision']\n",
    "            recall = report['weighted avg']['recall']\n",
    "            f1 = report['weighted avg']['f1-score']\n",
    "            print(f\"max_depth={max_depth}, min_samples_split={min_samples_split} -> \"\n",
    "                  f\"Accuracy: {acc:.4f}, Precision: {precision:.4f}, Recall: {recall:.4f}, F1: {f1:.4f}\")\n",
    "            if acc > best_acc:\n",
    "                best_acc = acc\n",
    "                best_params = {'max_depth': max_depth, 'min_samples_split': min_samples_split}\n",
    "                best_metrics = {\n",
    "                    'accuracy': acc,\n",
    "                    'precision': precision,\n",
    "                    'recall': recall,\n",
    "                    'f1': f1\n",
    "                }\n",
    "    print(f\"\\nBest Decision Tree params: {best_params} with metrics:\")\n",
    "    print(f\"Accuracy: {best_metrics['accuracy']:.4f}\")\n",
    "    print(f\"Precision: {best_metrics['precision']:.4f}\")\n",
    "    print(f\"Recall: {best_metrics['recall']:.4f}\")\n",
    "    print(f\"F1: {best_metrics['f1']:.4f}\")\n",
    "    # Fit and show classification report for best params\n",
    "    dt_best = DecisionTreeClassifier(random_state=42, **best_params)\n",
    "    dt_best.fit(X_train, y_train)\n",
    "    dt_pred = dt_best.predict(X_test)\n",
    "    print(classification_report(y_test, dt_pred))\n",
    "    return best_metrics"
   ]
  },
  {
   "cell_type": "code",
   "execution_count": 22,
   "id": "501a0347",
   "metadata": {},
   "outputs": [],
   "source": [
    "def analyze_logistic_regression(X_train_scaled, X_test_scaled, y_train, y_test):\n",
    "    best_acc = 0\n",
    "    best_params = {}\n",
    "    best_metrics = {}\n",
    "    print(\"Logistic Regression parameter tuning:\")\n",
    "    for C in [0.01, 0.1, 1, 10]:\n",
    "        for penalty in ['l2']:\n",
    "            lr = LogisticRegression(max_iter=1000, random_state=42, C=C, penalty=penalty, solver='lbfgs', multi_class='auto')\n",
    "            lr.fit(X_train_scaled, y_train)\n",
    "            lr_pred = lr.predict(X_test_scaled)\n",
    "            acc = accuracy_score(y_test, lr_pred)\n",
    "            report = classification_report(y_test, lr_pred, output_dict=True)\n",
    "            precision = report['weighted avg']['precision']\n",
    "            recall = report['weighted avg']['recall']\n",
    "            f1 = report['weighted avg']['f1-score']\n",
    "            print(f\"C={C}, penalty={penalty} -> Accuracy: {acc:.4f}, Precision: {precision:.4f}, Recall: {recall:.4f}, F1: {f1:.4f}\")\n",
    "            if acc > best_acc:\n",
    "                best_acc = acc\n",
    "                best_params = {'C': C, 'penalty': penalty}\n",
    "                best_metrics = {\n",
    "                    'accuracy': acc,\n",
    "                    'precision': precision,\n",
    "                    'recall': recall,\n",
    "                    'f1': f1\n",
    "                }\n",
    "    print(f\"\\nBest Logistic Regression params: {best_params} with metrics:\")\n",
    "    print(f\"Accuracy: {best_metrics['accuracy']:.4f}\")\n",
    "    print(f\"Precision: {best_metrics['precision']:.4f}\")\n",
    "    print(f\"Recall: {best_metrics['recall']:.4f}\")\n",
    "    print(f\"F1: {best_metrics['f1']:.4f}\")\n",
    "    # Fit and show classification report for best params\n",
    "    lr_best = LogisticRegression(max_iter=1000, random_state=42, **best_params, solver='lbfgs', multi_class='auto')\n",
    "    lr_best.fit(X_train_scaled, y_train)\n",
    "    lr_pred = lr_best.predict(X_test_scaled)\n",
    "    print(classification_report(y_test, lr_pred))\n",
    "    return best_metrics"
   ]
  },
  {
   "cell_type": "code",
   "execution_count": 23,
   "id": "94326818",
   "metadata": {},
   "outputs": [],
   "source": [
    "def analyze_knn(X_train_scaled, X_test_scaled, y_train, y_test):\n",
    "    best_acc = 0\n",
    "    best_params = {}\n",
    "    best_metrics = {}\n",
    "    print(\"KNN parameter tuning:\")\n",
    "    for n_neighbors in [3, 5, 7, 9, 11]:\n",
    "        for weights in ['uniform', 'distance']:\n",
    "            for p in [1, 2]:  # 1: Manhattan, 2: Euclidean\n",
    "                knn = KNeighborsClassifier(n_neighbors=n_neighbors, weights=weights, p=p)\n",
    "                knn.fit(X_train_scaled, y_train)\n",
    "                knn_pred = knn.predict(X_test_scaled)\n",
    "                acc = accuracy_score(y_test, knn_pred)\n",
    "                report = classification_report(y_test, knn_pred, output_dict=True)\n",
    "                precision = report['weighted avg']['precision']\n",
    "                recall = report['weighted avg']['recall']\n",
    "                f1 = report['weighted avg']['f1-score']\n",
    "                print(f\"n_neighbors={n_neighbors}, weights={weights}, p={p} -> \"\n",
    "                      f\"Accuracy: {acc:.4f}, Precision: {precision:.4f}, Recall: {recall:.4f}, F1: {f1:.4f}\")\n",
    "                if acc > best_acc:\n",
    "                    best_acc = acc\n",
    "                    best_params = {'n_neighbors': n_neighbors, 'weights': weights, 'p': p}\n",
    "                    best_metrics = {\n",
    "                        'accuracy': acc,\n",
    "                        'precision': precision,\n",
    "                        'recall': recall,\n",
    "                        'f1': f1\n",
    "                    }\n",
    "    print(f\"\\nBest KNN params: {best_params} with metrics:\")\n",
    "    print(f\"Accuracy: {best_metrics['accuracy']:.4f}\")\n",
    "    print(f\"Precision: {best_metrics['precision']:.4f}\")\n",
    "    print(f\"Recall: {best_metrics['recall']:.4f}\")\n",
    "    print(f\"F1: {best_metrics['f1']:.4f}\")\n",
    "    return best_metrics"
   ]
  },
  {
   "cell_type": "code",
   "execution_count": 30,
   "id": "882f5e4a",
   "metadata": {},
   "outputs": [],
   "source": [
    "def compare_model_metrics(X_train, X_test, X_train_scaled, X_test_scaled, y_train, y_test):\n",
    "    # Run individual analyses and collect metrics\n",
    "    print(\"Analyzing Decision Tree...\")\n",
    "    dt_metrics = analyze_decision_tree(X_train, X_test, y_train, y_test)\n",
    "    \n",
    "    print(\"\\nAnalyzing Logistic Regression...\")\n",
    "    lr_metrics = analyze_logistic_regression(X_train_scaled, X_test_scaled, y_train, y_test)\n",
    "    \n",
    "    print(\"\\nAnalyzing KNN...\")\n",
    "    knn_metrics = analyze_knn(X_train_scaled, X_test_scaled, y_train, y_test)\n",
    "    \n",
    "    # Collect results\n",
    "    results = [\n",
    "        {\"Model\": \"Decision Tree\", **dt_metrics},\n",
    "        {\"Model\": \"Logistic Regression\", **lr_metrics},\n",
    "        {\"Model\": \"KNN\", **knn_metrics}\n",
    "    ]\n",
    "    \n",
    "    results_df = pd.DataFrame(results)\n",
    "    print(\"\\nModel Comparison:\")\n",
    "    print(results_df)\n",
    "    results_df.plot(x='Model', y=['accuracy', 'precision', 'recall', 'f1'], kind='bar', figsize=(10,6))\n",
    "    plt.title('Model Performance Comparison')\n",
    "    plt.ylabel('Score')\n",
    "    plt.ylim(0, 1)\n",
    "    plt.show()\n",
    "    \n",
    "    # Recommend the best model based on accuracy\n",
    "    best_idx = results_df['accuracy'].idxmax()\n",
    "    best_model = results_df.loc[best_idx, 'Model']\n",
    "    best_metrics = results_df.loc[best_idx].to_dict()\n",
    "    print(f\"\\nRecommended Model: {best_model}\")\n",
    "    print(\"Recommended Model Metrics:\")\n",
    "    for metric, value in best_metrics.items():\n",
    "        if metric != 'Model':\n",
    "            print(f\"{metric.capitalize()}: {value:.4f}\")\n"
   ]
  },
  {
   "cell_type": "code",
   "execution_count": 25,
   "id": "f7f953b0",
   "metadata": {},
   "outputs": [
    {
     "name": "stdout",
     "output_type": "stream",
     "text": [
      "Null values per column:\n",
      "id                                0\n",
      "Gender                            0\n",
      "Age                               0\n",
      "Height                            0\n",
      "Weight                            0\n",
      "family_history_with_overweight    0\n",
      "FAVC                              0\n",
      "FCVC                              0\n",
      "NCP                               0\n",
      "CAEC                              0\n",
      "SMOKE                             0\n",
      "CH2O                              0\n",
      "SCC                               0\n",
      "FAF                               0\n",
      "TUE                               0\n",
      "CALC                              0\n",
      "MTRANS                            0\n",
      "NObeyesdad                        0\n",
      "dtype: int64\n",
      "Null values after imputation:\n",
      "id                                0\n",
      "Gender                            0\n",
      "Age                               0\n",
      "Height                            0\n",
      "Weight                            0\n",
      "family_history_with_overweight    0\n",
      "FAVC                              0\n",
      "FCVC                              0\n",
      "NCP                               0\n",
      "CAEC                              0\n",
      "SMOKE                             0\n",
      "CH2O                              0\n",
      "SCC                               0\n",
      "FAF                               0\n",
      "TUE                               0\n",
      "CALC                              0\n",
      "MTRANS                            0\n",
      "NObeyesdad                        0\n",
      "dtype: int64\n",
      "Data Skewness Analysis:\n",
      "id        0.000000\n",
      "Age       1.586252\n",
      "Height    0.015803\n",
      "Weight    0.093187\n",
      "FCVC     -0.356611\n",
      "NCP      -1.562253\n",
      "CH2O     -0.212506\n",
      "FAF       0.505726\n",
      "TUE       0.670411\n",
      "dtype: float64\n"
     ]
    },
    {
     "name": "stderr",
     "output_type": "stream",
     "text": [
      "C:\\Users\\amitk\\AppData\\Local\\Temp\\ipykernel_20208\\1677019472.py:7: FutureWarning: A value is trying to be set on a copy of a DataFrame or Series through chained assignment using an inplace method.\n",
      "The behavior will change in pandas 3.0. This inplace method will never work because the intermediate object on which we are setting values always behaves as a copy.\n",
      "\n",
      "For example, when doing 'df[col].method(value, inplace=True)', try using 'df.method({col: value}, inplace=True)' or df[col] = df[col].method(value) instead, to perform the operation inplace on the original object.\n",
      "\n",
      "\n",
      "  df[col].fillna(df[col].mean(), inplace=True)\n",
      "C:\\Users\\amitk\\AppData\\Local\\Temp\\ipykernel_20208\\1677019472.py:9: FutureWarning: A value is trying to be set on a copy of a DataFrame or Series through chained assignment using an inplace method.\n",
      "The behavior will change in pandas 3.0. This inplace method will never work because the intermediate object on which we are setting values always behaves as a copy.\n",
      "\n",
      "For example, when doing 'df[col].method(value, inplace=True)', try using 'df.method({col: value}, inplace=True)' or df[col] = df[col].method(value) instead, to perform the operation inplace on the original object.\n",
      "\n",
      "\n",
      "  df[col].fillna(df[col].mode()[0], inplace=True)\n"
     ]
    },
    {
     "data": {
      "image/png": "[encoded data removed]",
      "text/plain": [
       "<Figure size 1200x600 with 1 Axes>"
      ]
     },
     "metadata": {},
     "output_type": "display_data"
    }
   ],
   "source": [
    "# Load dataset and do the nal\n",
    "analyze_and_impute_missing_values(df)\n",
    "analyze_data_biasness(df)"
   ]
  },
  {
   "cell_type": "code",
   "execution_count": 31,
   "id": "fc5ceb00",
   "metadata": {},
   "outputs": [
    {
     "name": "stdout",
     "output_type": "stream",
     "text": [
      "Decision Tree parameter tuning:\n",
      "max_depth=3, min_samples_split=2 -> Accuracy: 0.7312, Precision: 0.6865, Recall: 0.7312, F1: 0.6929\n"
     ]
    },
    {
     "name": "stderr",
     "output_type": "stream",
     "text": [
      "c:\\Users\\amitk\\anaconda3\\envs\\adibits1\\Lib\\site-packages\\sklearn\\metrics\\_classification.py:1565: UndefinedMetricWarning: Precision is ill-defined and being set to 0.0 in labels with no predicted samples. Use `zero_division` parameter to control this behavior.\n",
      "  _warn_prf(average, modifier, f\"{metric.capitalize()} is\", len(result))\n",
      "c:\\Users\\amitk\\anaconda3\\envs\\adibits1\\Lib\\site-packages\\sklearn\\metrics\\_classification.py:1565: UndefinedMetricWarning: Precision is ill-defined and being set to 0.0 in labels with no predicted samples. Use `zero_division` parameter to control this behavior.\n",
      "  _warn_prf(average, modifier, f\"{metric.capitalize()} is\", len(result))\n",
      "c:\\Users\\amitk\\anaconda3\\envs\\adibits1\\Lib\\site-packages\\sklearn\\metrics\\_classification.py:1565: UndefinedMetricWarning: Precision is ill-defined and being set to 0.0 in labels with no predicted samples. Use `zero_division` parameter to control this behavior.\n",
      "  _warn_prf(average, modifier, f\"{metric.capitalize()} is\", len(result))\n",
      "c:\\Users\\amitk\\anaconda3\\envs\\adibits1\\Lib\\site-packages\\sklearn\\metrics\\_classification.py:1565: UndefinedMetricWarning: Precision is ill-defined and being set to 0.0 in labels with no predicted samples. Use `zero_division` parameter to control this behavior.\n",
      "  _warn_prf(average, modifier, f\"{metric.capitalize()} is\", len(result))\n",
      "c:\\Users\\amitk\\anaconda3\\envs\\adibits1\\Lib\\site-packages\\sklearn\\metrics\\_classification.py:1565: UndefinedMetricWarning: Precision is ill-defined and being set to 0.0 in labels with no predicted samples. Use `zero_division` parameter to control this behavior.\n",
      "  _warn_prf(average, modifier, f\"{metric.capitalize()} is\", len(result))\n",
      "c:\\Users\\amitk\\anaconda3\\envs\\adibits1\\Lib\\site-packages\\sklearn\\metrics\\_classification.py:1565: UndefinedMetricWarning: Precision is ill-defined and being set to 0.0 in labels with no predicted samples. Use `zero_division` parameter to control this behavior.\n",
      "  _warn_prf(average, modifier, f\"{metric.capitalize()} is\", len(result))\n",
      "c:\\Users\\amitk\\anaconda3\\envs\\adibits1\\Lib\\site-packages\\sklearn\\metrics\\_classification.py:1565: UndefinedMetricWarning: Precision is ill-defined and being set to 0.0 in labels with no predicted samples. Use `zero_division` parameter to control this behavior.\n",
      "  _warn_prf(average, modifier, f\"{metric.capitalize()} is\", len(result))\n",
      "c:\\Users\\amitk\\anaconda3\\envs\\adibits1\\Lib\\site-packages\\sklearn\\metrics\\_classification.py:1565: UndefinedMetricWarning: Precision is ill-defined and being set to 0.0 in labels with no predicted samples. Use `zero_division` parameter to control this behavior.\n",
      "  _warn_prf(average, modifier, f\"{metric.capitalize()} is\", len(result))\n"
     ]
    },
    {
     "name": "stdout",
     "output_type": "stream",
     "text": [
      "max_depth=3, min_samples_split=5 -> Accuracy: 0.7312, Precision: 0.6865, Recall: 0.7312, F1: 0.6929\n",
      "max_depth=3, min_samples_split=10 -> Accuracy: 0.7312, Precision: 0.6865, Recall: 0.7312, F1: 0.6929\n"
     ]
    },
    {
     "name": "stderr",
     "output_type": "stream",
     "text": [
      "c:\\Users\\amitk\\anaconda3\\envs\\adibits1\\Lib\\site-packages\\sklearn\\metrics\\_classification.py:1565: UndefinedMetricWarning: Precision is ill-defined and being set to 0.0 in labels with no predicted samples. Use `zero_division` parameter to control this behavior.\n",
      "  _warn_prf(average, modifier, f\"{metric.capitalize()} is\", len(result))\n"
     ]
    },
    {
     "name": "stdout",
     "output_type": "stream",
     "text": [
      "max_depth=5, min_samples_split=2 -> Accuracy: 0.8343, Precision: 0.8467, Recall: 0.8343, F1: 0.8359\n",
      "max_depth=5, min_samples_split=5 -> Accuracy: 0.8343, Precision: 0.8467, Recall: 0.8343, F1: 0.8359\n",
      "max_depth=5, min_samples_split=10 -> Accuracy: 0.8343, Precision: 0.8467, Recall: 0.8343, F1: 0.8359\n",
      "max_depth=10, min_samples_split=2 -> Accuracy: 0.8731, Precision: 0.8724, Recall: 0.8731, F1: 0.8726\n",
      "max_depth=10, min_samples_split=5 -> Accuracy: 0.8733, Precision: 0.8729, Recall: 0.8733, F1: 0.8729\n",
      "max_depth=10, min_samples_split=10 -> Accuracy: 0.8745, Precision: 0.8742, Recall: 0.8745, F1: 0.8742\n",
      "max_depth=None, min_samples_split=2 -> Accuracy: 0.8425, Precision: 0.8427, Recall: 0.8425, F1: 0.8425\n",
      "max_depth=None, min_samples_split=5 -> Accuracy: 0.8451, Precision: 0.8447, Recall: 0.8451, F1: 0.8447\n",
      "max_depth=None, min_samples_split=10 -> Accuracy: 0.8572, Precision: 0.8563, Recall: 0.8572, F1: 0.8566\n",
      "\n",
      "Best Decision Tree params: {'max_depth': 10, 'min_samples_split': 10} with metrics:\n",
      "Accuracy: 0.8745\n",
      "Precision: 0.8742\n",
      "Recall: 0.8745\n",
      "F1: 0.8742\n",
      "                     precision    recall  f1-score   support\n",
      "\n",
      "Insufficient_Weight       0.91      0.91      0.91       505\n",
      "      Normal_Weight       0.81      0.85      0.83       617\n",
      "     Obesity_Type_I       0.84      0.87      0.85       582\n",
      "    Obesity_Type_II       0.96      0.95      0.96       650\n",
      "   Obesity_Type_III       1.00      0.99      0.99       809\n",
      " Overweight_Level_I       0.74      0.71      0.72       485\n",
      "Overweight_Level_II       0.78      0.74      0.76       504\n",
      "\n",
      "           accuracy                           0.87      4152\n",
      "          macro avg       0.86      0.86      0.86      4152\n",
      "       weighted avg       0.87      0.87      0.87      4152\n",
      "\n",
      "Logistic Regression parameter tuning:\n"
     ]
    },
    {
     "name": "stderr",
     "output_type": "stream",
     "text": [
      "c:\\Users\\amitk\\anaconda3\\envs\\adibits1\\Lib\\site-packages\\sklearn\\linear_model\\_logistic.py:1247: FutureWarning: 'multi_class' was deprecated in version 1.5 and will be removed in 1.7. From then on, it will always use 'multinomial'. Leave it to its default value to avoid this warning.\n",
      "  warnings.warn(\n"
     ]
    },
    {
     "name": "stdout",
     "output_type": "stream",
     "text": [
      "C=0.01, penalty=l2 -> Accuracy: 0.7671, Precision: 0.7555, Recall: 0.7671, F1: 0.7578\n"
     ]
    },
    {
     "name": "stderr",
     "output_type": "stream",
     "text": [
      "c:\\Users\\amitk\\anaconda3\\envs\\adibits1\\Lib\\site-packages\\sklearn\\linear_model\\_logistic.py:1247: FutureWarning: 'multi_class' was deprecated in version 1.5 and will be removed in 1.7. From then on, it will always use 'multinomial'. Leave it to its default value to avoid this warning.\n",
      "  warnings.warn(\n"
     ]
    },
    {
     "name": "stdout",
     "output_type": "stream",
     "text": [
      "C=0.1, penalty=l2 -> Accuracy: 0.8418, Precision: 0.8381, Recall: 0.8418, F1: 0.8391\n"
     ]
    },
    {
     "name": "stderr",
     "output_type": "stream",
     "text": [
      "c:\\Users\\amitk\\anaconda3\\envs\\adibits1\\Lib\\site-packages\\sklearn\\linear_model\\_logistic.py:1247: FutureWarning: 'multi_class' was deprecated in version 1.5 and will be removed in 1.7. From then on, it will always use 'multinomial'. Leave it to its default value to avoid this warning.\n",
      "  warnings.warn(\n"
     ]
    },
    {
     "name": "stdout",
     "output_type": "stream",
     "text": [
      "C=1, penalty=l2 -> Accuracy: 0.8685, Precision: 0.8671, Recall: 0.8685, F1: 0.8673\n"
     ]
    },
    {
     "name": "stderr",
     "output_type": "stream",
     "text": [
      "c:\\Users\\amitk\\anaconda3\\envs\\adibits1\\Lib\\site-packages\\sklearn\\linear_model\\_logistic.py:1247: FutureWarning: 'multi_class' was deprecated in version 1.5 and will be removed in 1.7. From then on, it will always use 'multinomial'. Leave it to its default value to avoid this warning.\n",
      "  warnings.warn(\n"
     ]
    },
    {
     "name": "stdout",
     "output_type": "stream",
     "text": [
      "C=10, penalty=l2 -> Accuracy: 0.8726, Precision: 0.8714, Recall: 0.8726, F1: 0.8716\n",
      "\n",
      "Best Logistic Regression params: {'C': 10, 'penalty': 'l2'} with metrics:\n",
      "Accuracy: 0.8726\n",
      "Precision: 0.8714\n",
      "Recall: 0.8726\n",
      "F1: 0.8716\n"
     ]
    },
    {
     "name": "stderr",
     "output_type": "stream",
     "text": [
      "c:\\Users\\amitk\\anaconda3\\envs\\adibits1\\Lib\\site-packages\\sklearn\\linear_model\\_logistic.py:1247: FutureWarning: 'multi_class' was deprecated in version 1.5 and will be removed in 1.7. From then on, it will always use 'multinomial'. Leave it to its default value to avoid this warning.\n",
      "  warnings.warn(\n"
     ]
    },
    {
     "name": "stdout",
     "output_type": "stream",
     "text": [
      "                     precision    recall  f1-score   support\n",
      "\n",
      "Insufficient_Weight       0.89      0.95      0.92       505\n",
      "      Normal_Weight       0.88      0.82      0.85       617\n",
      "     Obesity_Type_I       0.81      0.85      0.83       582\n",
      "    Obesity_Type_II       0.94      0.96      0.95       650\n",
      "   Obesity_Type_III       1.00      1.00      1.00       809\n",
      " Overweight_Level_I       0.76      0.72      0.74       485\n",
      "Overweight_Level_II       0.74      0.72      0.73       504\n",
      "\n",
      "           accuracy                           0.87      4152\n",
      "          macro avg       0.86      0.86      0.86      4152\n",
      "       weighted avg       0.87      0.87      0.87      4152\n",
      "\n",
      "KNN parameter tuning:\n",
      "n_neighbors=3, weights=uniform, p=1 -> Accuracy: 0.7702, Precision: 0.7690, Recall: 0.7702, F1: 0.7663\n",
      "n_neighbors=3, weights=uniform, p=2 -> Accuracy: 0.7394, Precision: 0.7375, Recall: 0.7394, F1: 0.7354\n",
      "n_neighbors=3, weights=distance, p=1 -> Accuracy: 0.7784, Precision: 0.7758, Recall: 0.7784, F1: 0.7768\n",
      "n_neighbors=3, weights=distance, p=2 -> Accuracy: 0.7531, Precision: 0.7500, Recall: 0.7531, F1: 0.7514\n",
      "n_neighbors=5, weights=uniform, p=1 -> Accuracy: 0.7784, Precision: 0.7760, Recall: 0.7784, F1: 0.7750\n",
      "n_neighbors=5, weights=uniform, p=2 -> Accuracy: 0.7507, Precision: 0.7474, Recall: 0.7507, F1: 0.7472\n",
      "n_neighbors=5, weights=distance, p=1 -> Accuracy: 0.7897, Precision: 0.7873, Recall: 0.7897, F1: 0.7881\n",
      "n_neighbors=5, weights=distance, p=2 -> Accuracy: 0.7623, Precision: 0.7591, Recall: 0.7623, F1: 0.7604\n",
      "n_neighbors=7, weights=uniform, p=1 -> Accuracy: 0.7854, Precision: 0.7831, Recall: 0.7854, F1: 0.7824\n",
      "n_neighbors=7, weights=uniform, p=2 -> Accuracy: 0.7543, Precision: 0.7499, Recall: 0.7543, F1: 0.7504\n",
      "n_neighbors=7, weights=distance, p=1 -> Accuracy: 0.7914, Precision: 0.7891, Recall: 0.7914, F1: 0.7897\n",
      "n_neighbors=7, weights=distance, p=2 -> Accuracy: 0.7611, Precision: 0.7573, Recall: 0.7611, F1: 0.7589\n",
      "n_neighbors=9, weights=uniform, p=1 -> Accuracy: 0.7856, Precision: 0.7834, Recall: 0.7856, F1: 0.7826\n",
      "n_neighbors=9, weights=uniform, p=2 -> Accuracy: 0.7486, Precision: 0.7433, Recall: 0.7486, F1: 0.7439\n",
      "n_neighbors=9, weights=distance, p=1 -> Accuracy: 0.7965, Precision: 0.7946, Recall: 0.7965, F1: 0.7949\n",
      "n_neighbors=9, weights=distance, p=2 -> Accuracy: 0.7592, Precision: 0.7551, Recall: 0.7592, F1: 0.7566\n",
      "n_neighbors=11, weights=uniform, p=1 -> Accuracy: 0.7830, Precision: 0.7805, Recall: 0.7830, F1: 0.7797\n",
      "n_neighbors=11, weights=uniform, p=2 -> Accuracy: 0.7478, Precision: 0.7426, Recall: 0.7478, F1: 0.7432\n",
      "n_neighbors=11, weights=distance, p=1 -> Accuracy: 0.7919, Precision: 0.7895, Recall: 0.7919, F1: 0.7900\n",
      "n_neighbors=11, weights=distance, p=2 -> Accuracy: 0.7594, Precision: 0.7557, Recall: 0.7594, F1: 0.7568\n",
      "\n",
      "Best KNN params: {'n_neighbors': 9, 'weights': 'distance', 'p': 1} with metrics:\n",
      "Accuracy: 0.7965\n",
      "Precision: 0.7946\n",
      "Recall: 0.7965\n",
      "F1: 0.7949\n"
     ]
    },
    {
     "data": {
      "text/plain": [
       "{'accuracy': 0.7964836223506744,\n",
       " 'precision': 0.7946003623508606,\n",
       " 'recall': 0.7964836223506744,\n",
       " 'f1': 0.7948738500623977}"
      ]
     },
     "execution_count": 31,
     "metadata": {},
     "output_type": "execute_result"
    }
   ],
   "source": [
    "# Run analyses\n",
    "analyze_decision_tree(X_train, X_test, y_train, y_test)\n",
    "analyze_logistic_regression(X_train_scaled, X_test_scaled, y_train, y_test)\n",
    "analyze_knn(X_train_scaled, X_test_scaled, y_train, y_test)"
   ]
  },
  {
   "cell_type": "code",
   "execution_count": 29,
   "id": "34fb0270",
   "metadata": {},
   "outputs": [
    {
     "name": "stdout",
     "output_type": "stream",
     "text": [
      "Analyzing Decision Tree...\n",
      "Decision Tree parameter tuning:\n",
      "max_depth=3, min_samples_split=2 -> Accuracy: 0.7312, Precision: 0.6865, Recall: 0.7312, F1: 0.6929\n",
      "max_depth=3, min_samples_split=5 -> Accuracy: 0.7312, Precision: 0.6865, Recall: 0.7312, F1: 0.6929\n"
     ]
    },
    {
     "name": "stderr",
     "output_type": "stream",
     "text": [
      "c:\\Users\\amitk\\anaconda3\\envs\\adibits1\\Lib\\site-packages\\sklearn\\metrics\\_classification.py:1565: UndefinedMetricWarning: Precision is ill-defined and being set to 0.0 in labels with no predicted samples. Use `zero_division` parameter to control this behavior.\n",
      "  _warn_prf(average, modifier, f\"{metric.capitalize()} is\", len(result))\n",
      "c:\\Users\\amitk\\anaconda3\\envs\\adibits1\\Lib\\site-packages\\sklearn\\metrics\\_classification.py:1565: UndefinedMetricWarning: Precision is ill-defined and being set to 0.0 in labels with no predicted samples. Use `zero_division` parameter to control this behavior.\n",
      "  _warn_prf(average, modifier, f\"{metric.capitalize()} is\", len(result))\n",
      "c:\\Users\\amitk\\anaconda3\\envs\\adibits1\\Lib\\site-packages\\sklearn\\metrics\\_classification.py:1565: UndefinedMetricWarning: Precision is ill-defined and being set to 0.0 in labels with no predicted samples. Use `zero_division` parameter to control this behavior.\n",
      "  _warn_prf(average, modifier, f\"{metric.capitalize()} is\", len(result))\n",
      "c:\\Users\\amitk\\anaconda3\\envs\\adibits1\\Lib\\site-packages\\sklearn\\metrics\\_classification.py:1565: UndefinedMetricWarning: Precision is ill-defined and being set to 0.0 in labels with no predicted samples. Use `zero_division` parameter to control this behavior.\n",
      "  _warn_prf(average, modifier, f\"{metric.capitalize()} is\", len(result))\n",
      "c:\\Users\\amitk\\anaconda3\\envs\\adibits1\\Lib\\site-packages\\sklearn\\metrics\\_classification.py:1565: UndefinedMetricWarning: Precision is ill-defined and being set to 0.0 in labels with no predicted samples. Use `zero_division` parameter to control this behavior.\n",
      "  _warn_prf(average, modifier, f\"{metric.capitalize()} is\", len(result))\n",
      "c:\\Users\\amitk\\anaconda3\\envs\\adibits1\\Lib\\site-packages\\sklearn\\metrics\\_classification.py:1565: UndefinedMetricWarning: Precision is ill-defined and being set to 0.0 in labels with no predicted samples. Use `zero_division` parameter to control this behavior.\n",
      "  _warn_prf(average, modifier, f\"{metric.capitalize()} is\", len(result))\n",
      "c:\\Users\\amitk\\anaconda3\\envs\\adibits1\\Lib\\site-packages\\sklearn\\metrics\\_classification.py:1565: UndefinedMetricWarning: Precision is ill-defined and being set to 0.0 in labels with no predicted samples. Use `zero_division` parameter to control this behavior.\n",
      "  _warn_prf(average, modifier, f\"{metric.capitalize()} is\", len(result))\n",
      "c:\\Users\\amitk\\anaconda3\\envs\\adibits1\\Lib\\site-packages\\sklearn\\metrics\\_classification.py:1565: UndefinedMetricWarning: Precision is ill-defined and being set to 0.0 in labels with no predicted samples. Use `zero_division` parameter to control this behavior.\n",
      "  _warn_prf(average, modifier, f\"{metric.capitalize()} is\", len(result))\n",
      "c:\\Users\\amitk\\anaconda3\\envs\\adibits1\\Lib\\site-packages\\sklearn\\metrics\\_classification.py:1565: UndefinedMetricWarning: Precision is ill-defined and being set to 0.0 in labels with no predicted samples. Use `zero_division` parameter to control this behavior.\n",
      "  _warn_prf(average, modifier, f\"{metric.capitalize()} is\", len(result))\n"
     ]
    },
    {
     "name": "stdout",
     "output_type": "stream",
     "text": [
      "max_depth=3, min_samples_split=10 -> Accuracy: 0.7312, Precision: 0.6865, Recall: 0.7312, F1: 0.6929\n",
      "max_depth=5, min_samples_split=2 -> Accuracy: 0.8343, Precision: 0.8467, Recall: 0.8343, F1: 0.8359\n",
      "max_depth=5, min_samples_split=5 -> Accuracy: 0.8343, Precision: 0.8467, Recall: 0.8343, F1: 0.8359\n",
      "max_depth=5, min_samples_split=10 -> Accuracy: 0.8343, Precision: 0.8467, Recall: 0.8343, F1: 0.8359\n",
      "max_depth=10, min_samples_split=2 -> Accuracy: 0.8731, Precision: 0.8724, Recall: 0.8731, F1: 0.8726\n",
      "max_depth=10, min_samples_split=5 -> Accuracy: 0.8733, Precision: 0.8729, Recall: 0.8733, F1: 0.8729\n",
      "max_depth=10, min_samples_split=10 -> Accuracy: 0.8745, Precision: 0.8742, Recall: 0.8745, F1: 0.8742\n",
      "max_depth=None, min_samples_split=2 -> Accuracy: 0.8425, Precision: 0.8427, Recall: 0.8425, F1: 0.8425\n",
      "max_depth=None, min_samples_split=5 -> Accuracy: 0.8451, Precision: 0.8447, Recall: 0.8451, F1: 0.8447\n",
      "max_depth=None, min_samples_split=10 -> Accuracy: 0.8572, Precision: 0.8563, Recall: 0.8572, F1: 0.8566\n",
      "\n",
      "Best Decision Tree params: {'max_depth': 10, 'min_samples_split': 10} with metrics:\n",
      "Accuracy: 0.8745\n",
      "Precision: 0.8742\n",
      "Recall: 0.8745\n",
      "F1: 0.8742\n",
      "                     precision    recall  f1-score   support\n",
      "\n",
      "Insufficient_Weight       0.91      0.91      0.91       505\n",
      "      Normal_Weight       0.81      0.85      0.83       617\n",
      "     Obesity_Type_I       0.84      0.87      0.85       582\n",
      "    Obesity_Type_II       0.96      0.95      0.96       650\n",
      "   Obesity_Type_III       1.00      0.99      0.99       809\n",
      " Overweight_Level_I       0.74      0.71      0.72       485\n",
      "Overweight_Level_II       0.78      0.74      0.76       504\n",
      "\n",
      "           accuracy                           0.87      4152\n",
      "          macro avg       0.86      0.86      0.86      4152\n",
      "       weighted avg       0.87      0.87      0.87      4152\n",
      "\n",
      "\n",
      "Analyzing Logistic Regression...\n",
      "Logistic Regression parameter tuning:\n"
     ]
    },
    {
     "name": "stderr",
     "output_type": "stream",
     "text": [
      "c:\\Users\\amitk\\anaconda3\\envs\\adibits1\\Lib\\site-packages\\sklearn\\linear_model\\_logistic.py:1247: FutureWarning: 'multi_class' was deprecated in version 1.5 and will be removed in 1.7. From then on, it will always use 'multinomial'. Leave it to its default value to avoid this warning.\n",
      "  warnings.warn(\n"
     ]
    },
    {
     "name": "stdout",
     "output_type": "stream",
     "text": [
      "C=0.01, penalty=l2 -> Accuracy: 0.7671, Precision: 0.7555, Recall: 0.7671, F1: 0.7578\n"
     ]
    },
    {
     "name": "stderr",
     "output_type": "stream",
     "text": [
      "c:\\Users\\amitk\\anaconda3\\envs\\adibits1\\Lib\\site-packages\\sklearn\\linear_model\\_logistic.py:1247: FutureWarning: 'multi_class' was deprecated in version 1.5 and will be removed in 1.7. From then on, it will always use 'multinomial'. Leave it to its default value to avoid this warning.\n",
      "  warnings.warn(\n"
     ]
    },
    {
     "name": "stdout",
     "output_type": "stream",
     "text": [
      "C=0.1, penalty=l2 -> Accuracy: 0.8418, Precision: 0.8381, Recall: 0.8418, F1: 0.8391\n"
     ]
    },
    {
     "name": "stderr",
     "output_type": "stream",
     "text": [
      "c:\\Users\\amitk\\anaconda3\\envs\\adibits1\\Lib\\site-packages\\sklearn\\linear_model\\_logistic.py:1247: FutureWarning: 'multi_class' was deprecated in version 1.5 and will be removed in 1.7. From then on, it will always use 'multinomial'. Leave it to its default value to avoid this warning.\n",
      "  warnings.warn(\n"
     ]
    },
    {
     "name": "stdout",
     "output_type": "stream",
     "text": [
      "C=1, penalty=l2 -> Accuracy: 0.8685, Precision: 0.8671, Recall: 0.8685, F1: 0.8673\n"
     ]
    },
    {
     "name": "stderr",
     "output_type": "stream",
     "text": [
      "c:\\Users\\amitk\\anaconda3\\envs\\adibits1\\Lib\\site-packages\\sklearn\\linear_model\\_logistic.py:1247: FutureWarning: 'multi_class' was deprecated in version 1.5 and will be removed in 1.7. From then on, it will always use 'multinomial'. Leave it to its default value to avoid this warning.\n",
      "  warnings.warn(\n"
     ]
    },
    {
     "name": "stdout",
     "output_type": "stream",
     "text": [
      "C=10, penalty=l2 -> Accuracy: 0.8726, Precision: 0.8714, Recall: 0.8726, F1: 0.8716\n",
      "\n",
      "Best Logistic Regression params: {'C': 10, 'penalty': 'l2'} with metrics:\n",
      "Accuracy: 0.8726\n",
      "Precision: 0.8714\n",
      "Recall: 0.8726\n",
      "F1: 0.8716\n"
     ]
    },
    {
     "name": "stderr",
     "output_type": "stream",
     "text": [
      "c:\\Users\\amitk\\anaconda3\\envs\\adibits1\\Lib\\site-packages\\sklearn\\linear_model\\_logistic.py:1247: FutureWarning: 'multi_class' was deprecated in version 1.5 and will be removed in 1.7. From then on, it will always use 'multinomial'. Leave it to its default value to avoid this warning.\n",
      "  warnings.warn(\n"
     ]
    },
    {
     "name": "stdout",
     "output_type": "stream",
     "text": [
      "                     precision    recall  f1-score   support\n",
      "\n",
      "Insufficient_Weight       0.89      0.95      0.92       505\n",
      "      Normal_Weight       0.88      0.82      0.85       617\n",
      "     Obesity_Type_I       0.81      0.85      0.83       582\n",
      "    Obesity_Type_II       0.94      0.96      0.95       650\n",
      "   Obesity_Type_III       1.00      1.00      1.00       809\n",
      " Overweight_Level_I       0.76      0.72      0.74       485\n",
      "Overweight_Level_II       0.74      0.72      0.73       504\n",
      "\n",
      "           accuracy                           0.87      4152\n",
      "          macro avg       0.86      0.86      0.86      4152\n",
      "       weighted avg       0.87      0.87      0.87      4152\n",
      "\n",
      "\n",
      "Analyzing KNN...\n",
      "KNN parameter tuning:\n",
      "n_neighbors=3, weights=uniform, p=1 -> Accuracy: 0.7702, Precision: 0.7690, Recall: 0.7702, F1: 0.7663\n",
      "n_neighbors=3, weights=uniform, p=2 -> Accuracy: 0.7394, Precision: 0.7375, Recall: 0.7394, F1: 0.7354\n",
      "n_neighbors=3, weights=distance, p=1 -> Accuracy: 0.7784, Precision: 0.7758, Recall: 0.7784, F1: 0.7768\n",
      "n_neighbors=3, weights=distance, p=2 -> Accuracy: 0.7531, Precision: 0.7500, Recall: 0.7531, F1: 0.7514\n",
      "n_neighbors=5, weights=uniform, p=1 -> Accuracy: 0.7784, Precision: 0.7760, Recall: 0.7784, F1: 0.7750\n",
      "n_neighbors=5, weights=uniform, p=2 -> Accuracy: 0.7507, Precision: 0.7474, Recall: 0.7507, F1: 0.7472\n",
      "n_neighbors=5, weights=distance, p=1 -> Accuracy: 0.7897, Precision: 0.7873, Recall: 0.7897, F1: 0.7881\n",
      "n_neighbors=5, weights=distance, p=2 -> Accuracy: 0.7623, Precision: 0.7591, Recall: 0.7623, F1: 0.7604\n",
      "n_neighbors=7, weights=uniform, p=1 -> Accuracy: 0.7854, Precision: 0.7831, Recall: 0.7854, F1: 0.7824\n",
      "n_neighbors=7, weights=uniform, p=2 -> Accuracy: 0.7543, Precision: 0.7499, Recall: 0.7543, F1: 0.7504\n",
      "n_neighbors=7, weights=distance, p=1 -> Accuracy: 0.7914, Precision: 0.7891, Recall: 0.7914, F1: 0.7897\n",
      "n_neighbors=7, weights=distance, p=2 -> Accuracy: 0.7611, Precision: 0.7573, Recall: 0.7611, F1: 0.7589\n",
      "n_neighbors=9, weights=uniform, p=1 -> Accuracy: 0.7856, Precision: 0.7834, Recall: 0.7856, F1: 0.7826\n",
      "n_neighbors=9, weights=uniform, p=2 -> Accuracy: 0.7486, Precision: 0.7433, Recall: 0.7486, F1: 0.7439\n",
      "n_neighbors=9, weights=distance, p=1 -> Accuracy: 0.7965, Precision: 0.7946, Recall: 0.7965, F1: 0.7949\n",
      "n_neighbors=9, weights=distance, p=2 -> Accuracy: 0.7592, Precision: 0.7551, Recall: 0.7592, F1: 0.7566\n",
      "n_neighbors=11, weights=uniform, p=1 -> Accuracy: 0.7830, Precision: 0.7805, Recall: 0.7830, F1: 0.7797\n",
      "n_neighbors=11, weights=uniform, p=2 -> Accuracy: 0.7478, Precision: 0.7426, Recall: 0.7478, F1: 0.7432\n",
      "n_neighbors=11, weights=distance, p=1 -> Accuracy: 0.7919, Precision: 0.7895, Recall: 0.7919, F1: 0.7900\n",
      "n_neighbors=11, weights=distance, p=2 -> Accuracy: 0.7594, Precision: 0.7557, Recall: 0.7594, F1: 0.7568\n",
      "\n",
      "Best KNN params: {'n_neighbors': 9, 'weights': 'distance', 'p': 1} with metrics:\n",
      "Accuracy: 0.7965\n",
      "Precision: 0.7946\n",
      "Recall: 0.7965\n",
      "F1: 0.7949\n",
      "\n",
      "Model Comparison:\n",
      "                 Model  accuracy  precision    recall        f1\n",
      "0        Decision Tree  0.874518   0.874233  0.874518  0.874173\n",
      "1  Logistic Regression  0.872592   0.871413  0.872592  0.871586\n",
      "2                  KNN  0.796484   0.794600  0.796484  0.794874\n"
     ]
    },
    {
     "data": {
      "image/png": "[encoded data removed]",
      "text/plain": [
       "<Figure size 1000x600 with 1 Axes>"
      ]
     },
     "metadata": {},
     "output_type": "display_data"
    },
    {
     "name": "stdout",
     "output_type": "stream",
     "text": [
      "\n",
      "Recommended Model: Decision Tree\n",
      "Recommended Model Metrics:\n",
      "Accuracy: 0.8745\n",
      "Precision: 0.8742\n",
      "Recall: 0.8745\n",
      "F1: 0.8742\n"
     ]
    }
   ],
   "source": [
    "compare_model_metrics(X_train, X_test, X_train_scaled, X_test_scaled, y_train, y_test)"
   ]
  }
 ],
 "metadata": {
  "kernelspec": {
   "display_name": "adibits1",
   "language": "python",
   "name": "python3"
  },
  "language_info": {
   "codemirror_mode": {
    "name": "ipython",
    "version": 3
   },
   "file_extension": ".py",
   "mimetype": "text/x-python",
   "name": "python",
   "nbconvert_exporter": "python",
   "pygments_lexer": "ipython3",
   "version": "3.12.7"
  }
 },
 "nbformat": 4,
 "nbformat_minor": 5
}
